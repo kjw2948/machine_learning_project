{
 "cells": [
  {
   "cell_type": "markdown",
   "metadata": {},
   "source": [
    "# Logistic Regression for a Binary Classification of Images"
   ]
  },
  {
   "cell_type": "markdown",
   "metadata": {},
   "source": [
    "## import library"
   ]
  },
  {
   "cell_type": "code",
   "execution_count": 1,
   "metadata": {},
   "outputs": [],
   "source": [
    "import numpy as np\n",
    "import matplotlib.image as img\n",
    "import matplotlib.pyplot as plt\n",
    "import matplotlib.colors as colors\n",
    "from matplotlib import ticker, cm\n",
    "import os"
   ]
  },
  {
   "cell_type": "markdown",
   "metadata": {},
   "source": [
    "## load data"
   ]
  },
  {
   "cell_type": "code",
   "execution_count": 4,
   "metadata": {},
   "outputs": [],
   "source": [
    "directory_data  = './'\n",
    "filename_data   = 'assignment_02_data.npz'\n",
    "path_data       = os.path.join(directory_data, filename_data) \n",
    "data            = np.load(path_data)\n",
    "\n",
    "x = data['x']\n",
    "y = data['y']\n",
    "\n",
    "im_0    = x[0,:,:]\n",
    "im_1    = x[1,:,:]\n",
    "\n",
    "label_0 = y[0]\n",
    "label_1 = y[1]"
   ]
  },
  {
   "cell_type": "code",
   "execution_count": 3,
   "metadata": {},
   "outputs": [
    {
     "name": "stdout",
     "output_type": "stream",
     "text": [
      "size of data : (2, 28, 28)\n",
      "number of images : 2\n",
      "size of image : (28, 28)\n",
      "size of label : (2,)\n",
      "data type of image : float64\n",
      "data type of label : float64\n",
      "number of image : 2\n",
      "height of image : 28\n",
      "width of image : 28\n"
     ]
    }
   ],
   "source": [
    "print('size of data :', x.shape)\n",
    "print('number of images :', x.shape[0])\n",
    "print('size of image :', x[0,:,:].shape)\n",
    "print('size of label :', y.shape)\n",
    "\n",
    "print('data type of image :', x.dtype)\n",
    "print('data type of label :', y.dtype)\n",
    "\n",
    "print('number of image :', x.shape[0])\n",
    "print('height of image :', x.shape[1])\n",
    "print('width of image :', x.shape[2])"
   ]
  },
  {
   "cell_type": "markdown",
   "metadata": {},
   "source": [
    "## plot grey image"
   ]
  },
  {
   "cell_type": "code",
   "execution_count": 5,
   "metadata": {},
   "outputs": [],
   "source": [
    "def plot_image_gray(title1, data1, title2, data2):\n",
    "\n",
    "    size_width  = 8 \n",
    "    size_height = 4 \n",
    "    \n",
    "    fig = plt.figure(figsize=(size_width, size_height))\n",
    "\n",
    "    rows = 1\n",
    "    cols = 2\n",
    "\n",
    "    ax1 = fig.add_subplot(rows, cols, 1)\n",
    "    ax2 = fig.add_subplot(rows, cols, 2)\n",
    "\n",
    "    ax1.set_title(title1)\n",
    "    ax1.imshow(data1, cmap='gray', vmin=0, vmax=1)\n",
    "\n",
    "    ax2.set_title(title2)\n",
    "    ax2.imshow(data2, cmap='gray', vmin=0, vmax=1)\n",
    "\n",
    "    plt.tight_layout()\n",
    "    plt.show()"
   ]
  },
  {
   "cell_type": "code",
   "execution_count": 6,
   "metadata": {},
   "outputs": [
    {
     "data": {
      "image/png": "[encoded data removed]",
      "text/plain": [
       "<Figure size 576x288 with 2 Axes>"
      ]
     },
     "metadata": {
      "needs_background": "light"
     },
     "output_type": "display_data"
    }
   ],
   "source": [
    "plot_image_gray('image 0', im_0, 'image 1', im_1)"
   ]
  },
  {
   "cell_type": "markdown",
   "metadata": {},
   "source": [
    "## create color images from gray ones"
   ]
  },
  {
   "cell_type": "code",
   "execution_count": 9,
   "metadata": {},
   "outputs": [],
   "source": [
    "im_0_red    = np.zeros((im_0.shape[0], im_0.shape[1], 3))\n",
    "im_0_green  = np.zeros((im_0.shape[0], im_0.shape[1], 3))\n",
    "im_0_blue   = np.zeros((im_0.shape[0], im_0.shape[1], 3))\n",
    "\n",
    "im_1_red    = np.zeros((im_1.shape[0], im_1.shape[1], 3))\n",
    "im_1_green  = np.zeros((im_1.shape[0], im_1.shape[1], 3))\n",
    "im_1_blue   = np.zeros((im_1.shape[0], im_1.shape[1], 3))\n",
    "\n",
    "im_0_red[:,:,0]     = im_0\n",
    "im_0_green[:,:,1]   = im_0\n",
    "im_0_blue[:,:,2]    = im_0\n",
    "\n",
    "im_1_red[:,:,0]     = im_1\n",
    "im_1_green[:,:,1]   = im_1\n",
    "im_1_blue[:,:,2]    = im_1"
   ]
  },
  {
   "cell_type": "code",
   "execution_count": 10,
   "metadata": {},
   "outputs": [
    {
     "name": "stdout",
     "output_type": "stream",
     "text": [
      "size of red image for 0 :  (28, 28, 3)\n",
      "size of green image for 0 :  (28, 28, 3)\n",
      "size of blue image for 0 :  (28, 28, 3)\n"
     ]
    }
   ],
   "source": [
    "print('size of red image for 0 : ', im_0_red.shape)\n",
    "print('size of green image for 0 : ', im_0_green.shape)\n",
    "print('size of blue image for 0 : ', im_0_blue.shape)"
   ]
  },
  {
   "cell_type": "markdown",
   "metadata": {},
   "source": [
    "## plot color image"
   ]
  },
  {
   "cell_type": "code",
   "execution_count": 11,
   "metadata": {},
   "outputs": [],
   "source": [
    "def plot_image_color(title1, data1, title2, data2, title3, data3):\n",
    "    \n",
    "    size_width  = 12 \n",
    "    size_height = 4 \n",
    "    \n",
    "    fig = plt.figure(figsize=(size_width, size_height))\n",
    "\n",
    "    rows = 1\n",
    "    cols = 3\n",
    "\n",
    "    ax1 = fig.add_subplot(rows, cols, 1)\n",
    "    ax2 = fig.add_subplot(rows, cols, 2)\n",
    "    ax3 = fig.add_subplot(rows, cols, 3)\n",
    "        \n",
    "    ax1.set_title(title1)\n",
    "    ax1.imshow(data1, vmin=0, vmax=1)\n",
    "\n",
    "    ax2.set_title(title2)\n",
    "    ax2.imshow(data2, vmin=0, vmax=1)\n",
    "    \n",
    "    ax3.set_title(title3)\n",
    "    ax3.imshow(data3, vmin=0, vmax=1)\n",
    "    \n",
    "    plt.tight_layout()\n",
    "    plt.show()"
   ]
  },
  {
   "cell_type": "code",
   "execution_count": 12,
   "metadata": {},
   "outputs": [
    {
     "data": {
      "image/png": "[encoded data removed]",
      "text/plain": [
       "<Figure size 864x288 with 3 Axes>"
      ]
     },
     "metadata": {
      "needs_background": "light"
     },
     "output_type": "display_data"
    },
    {
     "data": {
      "image/png": "[encoded data removed]",
      "text/plain": [
       "<Figure size 864x288 with 3 Axes>"
      ]
     },
     "metadata": {
      "needs_background": "light"
     },
     "output_type": "display_data"
    }
   ],
   "source": [
    "plot_image_color('image 0 : red', im_0_red, 'image 0 : green', im_0_green, 'image 0 : blue', im_0_blue)\n",
    "plot_image_color('image 1 : red', im_1_red, 'image 1 : green', im_1_green, 'image 1 : blue', im_1_blue)"
   ]
  },
  {
   "cell_type": "markdown",
   "metadata": {},
   "source": [
    "## initialize input data"
   ]
  },
  {
   "cell_type": "markdown",
   "metadata": {},
   "source": [
    "- vectorize input image matrices into vectors (row-major order)"
   ]
  },
  {
   "cell_type": "code",
   "execution_count": 24,
   "metadata": {},
   "outputs": [],
   "source": [
    "# ================================================== \n",
    "# fill up the blank\n",
    "line_vec_0 = np.zeros((x.shape[1],1))\n",
    "line_vec_1 = np.zeros((x.shape[1],1))\n",
    "vec_0 = np.zeros((x.shape[1],1))\n",
    "vec_1= np.zeros((x.shape[1],1))\n",
    "for i in range(x.shape[1]) :\n",
    "    if (i==0) :\n",
    "        for j in range(x.shape[2]) :\n",
    "                line_vec_0[j,0] = im_0[i,j]\n",
    "                line_vec_1[j,0] = im_1[i,j]\n",
    "\n",
    "                vec_0[j] = line_vec_0[j]\n",
    "                vec_1[j] = line_vec_1[j]\n",
    "    else :\n",
    "        for j in range(x.shape[2]) :\n",
    "                line_vec_0[j,0] = im_0[i,j]\n",
    "                line_vec_1[j,0] = im_1[i,j]\n",
    "        vec_0 = np.vstack([vec_0, line_vec_0])\n",
    "        vec_1 = np.vstack([vec_1, line_vec_1])\n",
    "#\n",
    "# ================================================== "
   ]
  },
  {
   "cell_type": "code",
   "execution_count": 22,
   "metadata": {},
   "outputs": [
    {
     "name": "stdout",
     "output_type": "stream",
     "text": [
      "size of vec 0 :  (784, 1)\n",
      "size of vec 1 :  (784, 1)\n"
     ]
    }
   ],
   "source": [
    "print('size of vec 0 : ', vec_0.shape)\n",
    "print('size of vec 1 : ', vec_1.shape)"
   ]
  },
  {
   "cell_type": "markdown",
   "metadata": {},
   "source": [
    "## initialize a linear layer for the neural network"
   ]
  },
  {
   "cell_type": "markdown",
   "metadata": {},
   "source": [
    "- initialize the weights in a fully connected layer (zero matrix)\n",
    "- dimension\n",
    "  - input : length of input data\n",
    "  - output : 1"
   ]
  },
  {
   "cell_type": "code",
   "execution_count": 27,
   "metadata": {},
   "outputs": [],
   "source": [
    "size_input  = len(vec_0)\n",
    "size_output = 1\n",
    "\n",
    "# ================================================== \n",
    "# fill up the blank\n",
    "#\n",
    "weight = np.zeros((size_input, size_output)).T\n",
    "#\n",
    "# ================================================== "
   ]
  },
  {
   "cell_type": "code",
   "execution_count": 28,
   "metadata": {},
   "outputs": [
    {
     "name": "stdout",
     "output_type": "stream",
     "text": [
      "size of weight :  (1, 784)\n"
     ]
    }
   ],
   "source": [
    "print('size of weight : ', weight.shape)"
   ]
  },
  {
   "cell_type": "markdown",
   "metadata": {},
   "source": [
    "## define a linear layer "
   ]
  },
  {
   "cell_type": "markdown",
   "metadata": {},
   "source": [
    "- input\n",
    "  - input data\n",
    "  - dimension : $m \\times 1$\n",
    "- weight\n",
    "  - weight associated with the layer of the neural network\n",
    "  - dimension : $p \\times m$\n",
    "- return\n",
    "  - output of the layer\n",
    "  - dimension : $p \\times 1$"
   ]
  },
  {
   "cell_type": "code",
   "execution_count": 32,
   "metadata": {},
   "outputs": [],
   "source": [
    "def layer_linear(input, weight):\n",
    "\n",
    "# ================================================== \n",
    "# fill up the blank\n",
    "#\n",
    "    output = np.matmul(weight, input)\n",
    "#\n",
    "# =================================================\n",
    "\n",
    "    return output"
   ]
  },
  {
   "cell_type": "markdown",
   "metadata": {},
   "source": [
    "## define sigmoid function "
   ]
  },
  {
   "cell_type": "code",
   "execution_count": 14,
   "metadata": {},
   "outputs": [],
   "source": [
    "def activation_sigmoid(input):\n",
    "\n",
    "# ================================================== \n",
    "# fill up the blank\n",
    "#\n",
    "    output = (1 + np.exp(-input))**-1\n",
    "#\n",
    "# ================================================== \n",
    "\n",
    "    return output "
   ]
  },
  {
   "cell_type": "markdown",
   "metadata": {},
   "source": [
    "## define forward propagation"
   ]
  },
  {
   "cell_type": "code",
   "execution_count": 33,
   "metadata": {},
   "outputs": [],
   "source": [
    "def propagation_forward(input, weight):\n",
    "\n",
    "# ================================================== \n",
    "# fill up the blank\n",
    "#\n",
    "    output      = layer_linear(input, weight)\n",
    "    prediction  = activation_sigmoid(ouput)\n",
    "#\n",
    "# ================================================== \n",
    "\n",
    "    return prediction "
   ]
  },
  {
   "cell_type": "markdown",
   "metadata": {},
   "source": [
    "## define the loss function"
   ]
  },
  {
   "cell_type": "markdown",
   "metadata": {},
   "source": [
    "- cross entropy between the ground truth and the prediction\n",
    "- cross entropy : $-y \\log(h) - (1-y) \\log(1-h)$\n",
    "  - $y$ : grount truth\n",
    "  - $h$ : prediction\n",
    "- output dimension : $1 \\times 1$"
   ]
  },
  {
   "cell_type": "code",
   "execution_count": 34,
   "metadata": {},
   "outputs": [],
   "source": [
    "def compute_loss(prediction, label):\n",
    "\n",
    "# ================================================== \n",
    "# fill up the blank\n",
    "#\n",
    "    loss = -(label)*(np.log(prediction)) -(1-label)*(np.log(1-prediction))\n",
    "#\n",
    "# ================================================== \n",
    "\n",
    "    return loss"
   ]
  },
  {
   "cell_type": "markdown",
   "metadata": {},
   "source": [
    "## compute the gradient of the loss with respect to the model parameter"
   ]
  },
  {
   "cell_type": "code",
   "execution_count": 35,
   "metadata": {},
   "outputs": [],
   "source": [
    "def compute_gradient(input, prediction, label):\n",
    "\n",
    "# ================================================== \n",
    "# fill up the blank\n",
    "#\n",
    "    residual    = prediction - label\n",
    "    gradient    = np.matmul(residual, input)\n",
    "#\n",
    "# ================================================== \n",
    "\n",
    "    return gradient"
   ]
  },
  {
   "cell_type": "markdown",
   "metadata": {},
   "source": [
    "## gradient descent algorithm"
   ]
  },
  {
   "cell_type": "markdown",
   "metadata": {},
   "source": [
    "- hyper-parameters"
   ]
  },
  {
   "cell_type": "code",
   "execution_count": 89,
   "metadata": {
    "tags": []
   },
   "outputs": [],
   "source": [
    "number_iteration    = 500\n",
    "learning_rate       = 0.01"
   ]
  },
  {
   "cell_type": "code",
   "execution_count": 90,
   "metadata": {},
   "outputs": [],
   "source": [
    "loss_iter   = np.zeros(number_iteration)\n",
    "loss_iter_0 = np.zeros(number_iteration)\n",
    "loss_iter_1 = np.zeros(number_iteration)\n",
    "\n",
    "pred_iter_0 = np.zeros(number_iteration)\n",
    "pred_iter_1 = np.zeros(number_iteration)"
   ]
  },
  {
   "cell_type": "markdown",
   "metadata": {},
   "source": [
    "## run the gradient descent algorithm"
   ]
  },
  {
   "cell_type": "code",
   "execution_count": 91,
   "metadata": {},
   "outputs": [],
   "source": [
    "for i in range(number_iteration):\n",
    "\n",
    "# ================================================== \n",
    "# fill up the blank\n",
    "#\n",
    "    pred_0  = \n",
    "    loss_0  = \n",
    "    grad_0  = \n",
    "\n",
    "    pred_1  = \n",
    "    loss_1  = \n",
    "    grad_1  = \n",
    "\n",
    "    loss    = \n",
    "    grad    = \n",
    "    weight  = \n",
    "#\n",
    "# ================================================== \n",
    "\n",
    "    loss_iter_0[i]  = loss_0 \n",
    "    loss_iter_1[i]  = loss_1\n",
    "    loss_iter[i]    = loss\n",
    "\n",
    "    pred_iter_0[i]  = pred_0\n",
    "    pred_iter_1[i]  = pred_1"
   ]
  },
  {
   "cell_type": "markdown",
   "metadata": {},
   "source": [
    "---"
   ]
  },
  {
   "cell_type": "markdown",
   "metadata": {},
   "source": [
    "## functions for presenting the results"
   ]
  },
  {
   "cell_type": "markdown",
   "metadata": {},
   "source": [
    "---"
   ]
  },
  {
   "cell_type": "code",
   "execution_count": 92,
   "metadata": {},
   "outputs": [],
   "source": [
    "def function_result_01():\n",
    "\n",
    "    title           = 'loss for image 0'\n",
    "    label_axis_x    = 'iteration' \n",
    "    label_axis_y    = 'loss'\n",
    "\n",
    "    plt.figure(figsize=(8, 6))\n",
    "    plt.title(title)\n",
    "\n",
    "# ================================================== \n",
    "# fill up the blank\n",
    "#\n",
    "\n",
    "\n",
    "\n",
    "\n",
    "#\n",
    "# ================================================== \n",
    "\n",
    "    plt.tight_layout()\n",
    "    plt.show()"
   ]
  },
  {
   "cell_type": "code",
   "execution_count": 93,
   "metadata": {},
   "outputs": [],
   "source": [
    "def function_result_02():\n",
    "\n",
    "    title           = 'loss for image 1'\n",
    "    label_axis_x    = 'iteration' \n",
    "    label_axis_y    = 'loss'\n",
    "     \n",
    "    plt.figure(figsize=(8, 6))\n",
    "    plt.title(title)\n",
    "\n",
    "# ================================================== \n",
    "# fill up the blank\n",
    "#\n",
    "\n",
    "\n",
    "\n",
    "\n",
    "#\n",
    "# ================================================== \n",
    "\n",
    "    plt.tight_layout()\n",
    "    plt.show()"
   ]
  },
  {
   "cell_type": "code",
   "execution_count": 94,
   "metadata": {},
   "outputs": [],
   "source": [
    "def function_result_03():\n",
    "\n",
    "    title           = 'totla loss'\n",
    "    label_axis_x    = 'iteration' \n",
    "    label_axis_y    = 'loss'\n",
    "\n",
    "    plt.figure(figsize=(8, 6))\n",
    "    plt.title(title)\n",
    "\n",
    "# ================================================== \n",
    "# fill up the blank\n",
    "#\n",
    "\n",
    "\n",
    "\n",
    "\n",
    "#\n",
    "# ================================================== \n",
    "\n",
    "    plt.tight_layout()\n",
    "    plt.show()"
   ]
  },
  {
   "cell_type": "code",
   "execution_count": 95,
   "metadata": {},
   "outputs": [],
   "source": [
    "def function_result_04():\n",
    "\n",
    "    title           = 'prediction for image 0'\n",
    "    label_axis_x    = 'iteration' \n",
    "    label_axis_y    = 'prediction'\n",
    "\n",
    "    plt.figure(figsize=(8, 6))\n",
    "    plt.title(title)\n",
    "\n",
    "# ================================================== \n",
    "# fill up the blank\n",
    "#\n",
    "\n",
    "\n",
    "\n",
    "\n",
    "#\n",
    "# ================================================== \n",
    "    \n",
    "    plt.tight_layout()\n",
    "    plt.show()"
   ]
  },
  {
   "cell_type": "code",
   "execution_count": 96,
   "metadata": {},
   "outputs": [],
   "source": [
    "def function_result_05():\n",
    "\n",
    "    title           = 'prediction for image 1'\n",
    "    label_axis_x    = 'iteration' \n",
    "    label_axis_y    = 'prediction'\n",
    "\n",
    "    plt.figure(figsize=(8, 6))\n",
    "    plt.title(title)\n",
    "\n",
    "# ================================================== \n",
    "# fill up the blank\n",
    "#\n",
    "\n",
    "\n",
    "\n",
    "\n",
    "#\n",
    "# ================================================== \n",
    "\n",
    "    plt.tight_layout()\n",
    "    plt.show()"
   ]
  },
  {
   "cell_type": "code",
   "execution_count": 97,
   "metadata": {},
   "outputs": [],
   "source": [
    "def function_result_06():\n",
    "\n",
    "    title           = 'prediction'\n",
    "    label_axis_x    = 'iteration' \n",
    "    label_axis_y    = 'prediction'\n",
    "\n",
    "    plt.figure(figsize=(8, 6))\n",
    "    plt.title(title)\n",
    "\n",
    "# ================================================== \n",
    "# fill up the blank\n",
    "#\n",
    "\n",
    "\n",
    "\n",
    "\n",
    "#\n",
    "# ================================================== \n",
    "\n",
    "    plt.tight_layout()\n",
    "    plt.show()"
   ]
  },
  {
   "cell_type": "code",
   "execution_count": 98,
   "metadata": {},
   "outputs": [],
   "source": [
    "def function_result_07():\n",
    "\n",
    "    print('prediction = %12.10f' % (pred_iter_0[0]))"
   ]
  },
  {
   "cell_type": "code",
   "execution_count": 99,
   "metadata": {},
   "outputs": [],
   "source": [
    "def function_result_08():\n",
    "\n",
    "    print('prediction = %12.10f' % (pred_iter_1[0]))"
   ]
  },
  {
   "cell_type": "code",
   "execution_count": 100,
   "metadata": {},
   "outputs": [],
   "source": [
    "def function_result_09():\n",
    "\n",
    "    print('prediction = %12.10f' % (pred_iter_0[-1]))"
   ]
  },
  {
   "cell_type": "code",
   "execution_count": 101,
   "metadata": {},
   "outputs": [],
   "source": [
    "def function_result_10():\n",
    "\n",
    "    print('prediction = %12.10f' % (pred_iter_1[-1]))"
   ]
  },
  {
   "cell_type": "code",
   "execution_count": 102,
   "metadata": {},
   "outputs": [],
   "source": [
    "def function_result_11():\n",
    "\n",
    "    print('loss = %12.10f' % (loss_iter_0[-1]))"
   ]
  },
  {
   "cell_type": "code",
   "execution_count": 103,
   "metadata": {},
   "outputs": [],
   "source": [
    "def function_result_12():\n",
    "\n",
    "    print('loss = %12.10f' % (loss_iter_1[-1]))"
   ]
  },
  {
   "cell_type": "code",
   "execution_count": 104,
   "metadata": {},
   "outputs": [],
   "source": [
    "def function_result_13():\n",
    "\n",
    "    print('loss = %12.10f' % (loss_iter[-1]))"
   ]
  },
  {
   "cell_type": "markdown",
   "metadata": {},
   "source": [
    "---"
   ]
  },
  {
   "cell_type": "markdown",
   "metadata": {},
   "source": [
    "## results "
   ]
  },
  {
   "cell_type": "markdown",
   "metadata": {},
   "source": [
    "---"
   ]
  },
  {
   "cell_type": "code",
   "execution_count": 105,
   "metadata": {},
   "outputs": [
    {
     "name": "stdout",
     "output_type": "stream",
     "text": [
      "\n",
      "################################################################################\n",
      "#\n",
      "# RESULT # 01\n",
      "#\n",
      "################################################################################\n",
      "\n"
     ]
    },
    {
     "data": {
      "image/png": "[encoded data removed]",
      "text/plain": [
       "<Figure size 576x432 with 1 Axes>"
      ]
     },
     "metadata": {
      "needs_background": "light"
     },
     "output_type": "display_data"
    },
    {
     "name": "stdout",
     "output_type": "stream",
     "text": [
      "\n",
      "################################################################################\n",
      "#\n",
      "# RESULT # 02\n",
      "#\n",
      "################################################################################\n",
      "\n"
     ]
    },
    {
     "data": {
      "image/png": "[encoded data removed]",
      "text/plain": [
       "<Figure size 576x432 with 1 Axes>"
      ]
     },
     "metadata": {
      "needs_background": "light"
     },
     "output_type": "display_data"
    },
    {
     "name": "stdout",
     "output_type": "stream",
     "text": [
      "\n",
      "################################################################################\n",
      "#\n",
      "# RESULT # 03\n",
      "#\n",
      "################################################################################\n",
      "\n"
     ]
    },
    {
     "data": {
      "image/png": "[encoded data removed]",
      "text/plain": [
       "<Figure size 576x432 with 1 Axes>"
      ]
     },
     "metadata": {
      "needs_background": "light"
     },
     "output_type": "display_data"
    },
    {
     "name": "stdout",
     "output_type": "stream",
     "text": [
      "\n",
      "################################################################################\n",
      "#\n",
      "# RESULT # 04\n",
      "#\n",
      "################################################################################\n",
      "\n"
     ]
    },
    {
     "data": {
      "image/png": "[encoded data removed]",
      "text/plain": [
       "<Figure size 576x432 with 1 Axes>"
      ]
     },
     "metadata": {
      "needs_background": "light"
     },
     "output_type": "display_data"
    },
    {
     "name": "stdout",
     "output_type": "stream",
     "text": [
      "\n",
      "################################################################################\n",
      "#\n",
      "# RESULT # 05\n",
      "#\n",
      "################################################################################\n",
      "\n"
     ]
    },
    {
     "data": {
      "image/png": "[encoded data removed]",
      "text/plain": [
       "<Figure size 576x432 with 1 Axes>"
      ]
     },
     "metadata": {
      "needs_background": "light"
     },
     "output_type": "display_data"
    },
    {
     "name": "stdout",
     "output_type": "stream",
     "text": [
      "\n",
      "################################################################################\n",
      "#\n",
      "# RESULT # 06\n",
      "#\n",
      "################################################################################\n",
      "\n"
     ]
    },
    {
     "data": {
      "image/png": "[encoded data removed]",
      "text/plain": [
       "<Figure size 576x432 with 1 Axes>"
      ]
     },
     "metadata": {
      "needs_background": "light"
     },
     "output_type": "display_data"
    }
   ],
   "source": [
    "number_result = 13\n",
    "\n",
    "for i in range(number_result):\n",
    "\n",
    "    title           = '# RESULT # {:02d}'.format(i+1) \n",
    "    name_function   = 'function_result_{:02d}()'.format(i+1)\n",
    "\n",
    "    print('') \n",
    "    print('################################################################################')\n",
    "    print('#') \n",
    "    print(title)\n",
    "    print('#') \n",
    "    print('################################################################################')\n",
    "    print('') \n",
    "\n",
    "    eval(name_function)"
   ]
  },
  {
   "cell_type": "code",
   "execution_count": null,
   "metadata": {},
   "outputs": [],
   "source": []
  }
 ],
 "metadata": {
  "interpreter": {
   "hash": "949777d72b0d2535278d3dc13498b2535136f6dfe0678499012e853ee9abcab1"
  },
  "kernelspec": {
   "display_name": "Python 3.10.4 64-bit",
   "name": "python3"
  },
  "language_info": {
   "codemirror_mode": {
    "name": "ipython",
    "version": 3
   },
   "file_extension": ".py",
   "mimetype": "text/x-python",
   "name": "python",
   "nbconvert_exporter": "python",
   "pygments_lexer": "ipython3",
   "version": "3.10.4"
  },
  "metadata": {
   "interpreter": {
    "hash": "31f2aee4e71d21fbe5cf8b01ff0e069b9275f58929596ceb00d14d90e3e16cd6"
   }
  }
 },
 "nbformat": 4,
 "nbformat_minor": 2
}
