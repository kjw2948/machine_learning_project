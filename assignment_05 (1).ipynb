{
 "cells": [
  {
   "cell_type": "markdown",
   "metadata": {},
   "source": [
    "# A neural network for a classification with multiple labels"
   ]
  },
  {
   "cell_type": "markdown",
   "metadata": {},
   "source": [
    "## import library"
   ]
  },
  {
   "cell_type": "code",
   "execution_count": 1,
   "metadata": {},
   "outputs": [],
   "source": [
    "import numpy as np\n",
    "import matplotlib.image as img\n",
    "import matplotlib.pyplot as plt\n",
    "import matplotlib.colors as colors\n",
    "from matplotlib import ticker, cm\n",
    "import os\n",
    "from tqdm import tqdm"
   ]
  },
  {
   "cell_type": "markdown",
   "metadata": {},
   "source": [
    "## load data"
   ]
  },
  {
   "cell_type": "code",
   "execution_count": 2,
   "metadata": {},
   "outputs": [],
   "source": [
    "directory_data  = './'\n",
    "filename_data   = 'assignment_05_data.npz'\n",
    "path_data       = os.path.join(directory_data, filename_data) \n",
    "data            = np.load(path_data)\n",
    "\n",
    "x_train = data['x_train']\n",
    "y_train = data['y_train']\n",
    "\n",
    "x_test  = data['x_test']\n",
    "y_test  = data['y_test']\n",
    "\n",
    "x_train = np.asarray(x_train)\n",
    "y_train = np.asarray(y_train)\n",
    "\n",
    "x_test  = np.asarray(x_test)\n",
    "y_test  = np.asarray(y_test)\n",
    "\n",
    "vec_x_train = x_train.reshape(x_train.shape[0], x_train.shape[1] * x_train.shape[2])\n",
    "vec_x_test  = x_test.reshape(x_test.shape[0], x_test.shape[1] * x_test.shape[2])"
   ]
  },
  {
   "cell_type": "code",
   "execution_count": 3,
   "metadata": {},
   "outputs": [
    {
     "name": "stdout",
     "output_type": "stream",
     "text": [
      "*************************************************\n",
      "size of x_train : (20000, 28, 28)\n",
      "size of y_train : (20000, 10)\n",
      "*************************************************\n",
      "size of x_test : (8000, 28, 28)\n",
      "size of y_test : (8000, 10)\n",
      "*************************************************\n",
      "size of vector_x_train : (20000, 784)\n",
      "size of vector_x_test : (8000, 784)\n",
      "*************************************************\n"
     ]
    }
   ],
   "source": [
    "print('*************************************************')\n",
    "print('size of x_train :', x_train.shape)\n",
    "print('size of y_train :', y_train.shape)\n",
    "print('*************************************************')\n",
    "print('size of x_test :', x_test.shape)\n",
    "print('size of y_test :', y_test.shape)\n",
    "print('*************************************************')\n",
    "print('size of vector_x_train :', vec_x_train.shape)\n",
    "print('size of vector_x_test :', vec_x_test.shape)\n",
    "print('*************************************************')"
   ]
  },
  {
   "cell_type": "markdown",
   "metadata": {},
   "source": [
    "## index for each class"
   ]
  },
  {
   "cell_type": "code",
   "execution_count": 4,
   "metadata": {},
   "outputs": [],
   "source": [
    "number_class        = y_train.shape[1]\n",
    "length_data         = vec_x_train.shape[1]\n",
    "number_data_train   = vec_x_train.shape[0]\n",
    "number_data_test    = vec_x_test.shape[0]\n",
    "\n",
    "index_train = {}\n",
    "index_test  = {}\n",
    "\n",
    "number_index_train  = np.zeros(number_class)\n",
    "number_index_test   = np.zeros(number_class)\n",
    "\n",
    "for i in range(number_class):\n",
    "\n",
    "    index_train[i]  = np.where(y_train[:, i] == 1)\n",
    "    index_test[i]   = np.where(y_test[:, i] == 1)\n",
    "\n",
    "    number_index_train[i]   = np.shape(index_train[i])[1]\n",
    "    number_index_test[i]    = np.shape(index_test[i])[1]"
   ]
  },
  {
   "cell_type": "code",
   "execution_count": 5,
   "metadata": {},
   "outputs": [
    {
     "name": "stdout",
     "output_type": "stream",
     "text": [
      "*************************************************\n",
      "number of training data : 20000\n",
      "length of testing data : 8000\n",
      "*************************************************\n",
      "number of classes : 10\n",
      "length of data : 784\n",
      "*************************************************\n",
      "number of training images for each class : [2000. 2000. 2000. 2000. 2000. 2000. 2000. 2000. 2000. 2000.]\n",
      "number of testing images for each class : [800. 800. 800. 800. 800. 800. 800. 800. 800. 800.]\n",
      "*************************************************\n"
     ]
    }
   ],
   "source": [
    "print('*************************************************')\n",
    "print('number of training data :', number_data_train)\n",
    "print('length of testing data :', number_data_test)\n",
    "print('*************************************************')\n",
    "print('number of classes :', number_class)\n",
    "print('length of data :', length_data)\n",
    "print('*************************************************')\n",
    "print('number of training images for each class :', number_index_train)\n",
    "print('number of testing images for each class :', number_index_test)\n",
    "print('*************************************************')"
   ]
  },
  {
   "cell_type": "markdown",
   "metadata": {},
   "source": [
    "## plot grey image"
   ]
  },
  {
   "cell_type": "code",
   "execution_count": 6,
   "metadata": {},
   "outputs": [],
   "source": [
    "def plot_image(title, data):\n",
    "\n",
    "    nRow = 2\n",
    "    nCol = 5\n",
    "    size = 2 \n",
    "    \n",
    "    fig, axes = plt.subplots(nRow, nCol, figsize=(size * nCol, size * nRow))\n",
    "    fig.suptitle(title, fontsize=16)\n",
    "    \n",
    "    for i in range(nRow):\n",
    "        for j in range(nCol):\n",
    "\n",
    "            k = i * nCol + j\n",
    "            axes[i, j].imshow(data[k], cmap='gray', vmin=0, vmax=1)\n",
    "\n",
    "    plt.tight_layout()\n",
    "    plt.show()"
   ]
  },
  {
   "cell_type": "code",
   "execution_count": 7,
   "metadata": {},
   "outputs": [
    {
     "data": {
      "image/png": "[encoded data removed]",
      "text/plain": [
       "<Figure size 720x288 with 10 Axes>"
      ]
     },
     "metadata": {
      "needs_background": "light"
     },
     "output_type": "display_data"
    },
    {
     "data": {
      "image/png": "[encoded data removed]",
      "text/plain": [
       "<Figure size 720x288 with 10 Axes>"
      ]
     },
     "metadata": {
      "needs_background": "light"
     },
     "output_type": "display_data"
    },
    {
     "data": {
      "image/png": "[encoded data removed]",
      "text/plain": [
       "<Figure size 720x288 with 10 Axes>"
      ]
     },
     "metadata": {
      "needs_background": "light"
     },
     "output_type": "display_data"
    },
    {
     "data": {
      "image/png": "[encoded data removed]",
      "text/plain": [
       "<Figure size 720x288 with 10 Axes>"
      ]
     },
     "metadata": {
      "needs_background": "light"
     },
     "output_type": "display_data"
    },
    {
     "data": {
      "image/png": "[encoded data removed]",
      "text/plain": [
       "<Figure size 720x288 with 10 Axes>"
      ]
     },
     "metadata": {
      "needs_background": "light"
     },
     "output_type": "display_data"
    },
    {
     "data": {
      "image/png": "[encoded data removed]",
      "text/plain": [
       "<Figure size 720x288 with 10 Axes>"
      ]
     },
     "metadata": {
      "needs_background": "light"
     },
     "output_type": "display_data"
    }
   ],
   "source": [
    "for c in range(number_class):\n",
    "\n",
    "    index_class = c\n",
    "    title       = 'training image for digit ' + str(index_class)\n",
    "    plot_image(title, x_train[index_train[index_class][0]])"
   ]
  },
  {
   "cell_type": "markdown",
   "metadata": {},
   "source": [
    "## initialize the neural network"
   ]
  },
  {
   "cell_type": "markdown",
   "metadata": {},
   "source": [
    "- neural network consists of fullly connected linear layer followed by softmax activation function\n",
    "- the size of the fully connected layer is input (length of data) and output (number of classes)"
   ]
  },
  {
   "cell_type": "markdown",
   "metadata": {},
   "source": [
    "## initialize the weights for the fully connected layer"
   ]
  },
  {
   "cell_type": "markdown",
   "metadata": {},
   "source": [
    "- create one matrix for the weights\n",
    "- consider a bias in the construction of weights"
   ]
  },
  {
   "cell_type": "code",
   "execution_count": null,
   "metadata": {},
   "outputs": [],
   "source": [
    "# ================================================== \n",
    "# fill up the blank\n",
    "#\n",
    "size_input  = length_data + 1\n",
    "size_output = number_class \n",
    "#\n",
    "# ================================================== \n",
    "\n",
    "weight = np.ones((size_input, size_output))"
   ]
  },
  {
   "cell_type": "code",
   "execution_count": null,
   "metadata": {},
   "outputs": [
    {
     "name": "stdout",
     "output_type": "stream",
     "text": [
      "size of the weight : (785, 10)\n"
     ]
    }
   ],
   "source": [
    "print('size of the weight :', weight.shape)"
   ]
  },
  {
   "cell_type": "markdown",
   "metadata": {},
   "source": [
    "## initialize the data for considering a bisa"
   ]
  },
  {
   "cell_type": "markdown",
   "metadata": {},
   "source": [
    "- add 1 at the end of each vectorized data"
   ]
  },
  {
   "cell_type": "code",
   "execution_count": null,
   "metadata": {},
   "outputs": [],
   "source": [
    "# ================================================== \n",
    "# fill up the blank\n",
    "#\n",
    "ones_train  = np.ones((number_data_train, 1))\n",
    "ones_test   = np.ones((number_data_test, 1))\n",
    "\n",
    "vec_x_train = np.concatenate([vec_x_train, ones_train],1)\n",
    "vec_x_test  = np.concatenate([vec_x_test, ones_test],1)\n",
    "#\n",
    "# ================================================== "
   ]
  },
  {
   "cell_type": "code",
   "execution_count": null,
   "metadata": {},
   "outputs": [
    {
     "name": "stdout",
     "output_type": "stream",
     "text": [
      "size of training data : (20000, 785)\n",
      "size of testing data : (8000, 785)\n"
     ]
    }
   ],
   "source": [
    "print('size of training data :', vec_x_train.shape)\n",
    "print('size of testing data :', vec_x_test.shape)"
   ]
  },
  {
   "cell_type": "markdown",
   "metadata": {},
   "source": [
    "## define neural network "
   ]
  },
  {
   "cell_type": "markdown",
   "metadata": {},
   "source": [
    "### define softmax function "
   ]
  },
  {
   "cell_type": "markdown",
   "metadata": {},
   "source": [
    "- input : number of data $\\times$ number of classes\n",
    "- output : number of data $\\times$ number of classes"
   ]
  },
  {
   "cell_type": "code",
   "execution_count": null,
   "metadata": {},
   "outputs": [],
   "source": [
    "def activation_softmax(input):\n",
    "\n",
    "# ================================================== \n",
    "# fill up the blank\n",
    "#\n",
    "    \n",
    "    output =  np.exp(input) / np.sum(np.exp(input))\n",
    "#\n",
    "# ================================================== \n",
    "\n",
    "    return output "
   ]
  },
  {
   "cell_type": "markdown",
   "metadata": {},
   "source": [
    "### define the layer"
   ]
  },
  {
   "cell_type": "markdown",
   "metadata": {},
   "source": [
    "- input : number of data $\\times$ length of data\n",
    "- weight : length of data $\\times$ number of classes\n",
    "- output : number of data $\\times$  number of classes"
   ]
  },
  {
   "cell_type": "code",
   "execution_count": null,
   "metadata": {},
   "outputs": [],
   "source": [
    "def layer_fully_connected(input, weight):\n",
    "\n",
    "# ================================================== \n",
    "# fill up the blank\n",
    "#\n",
    "\n",
    "    output = np.matmul(input, weight)\n",
    "\n",
    "#\n",
    "# ================================================== \n",
    "\n",
    "    return output"
   ]
  },
  {
   "cell_type": "markdown",
   "metadata": {},
   "source": [
    "## define forward propagation"
   ]
  },
  {
   "cell_type": "markdown",
   "metadata": {},
   "source": [
    "- input : number of data $\\times$ length of data\n",
    "- weight : length of data $\\times$ number of classes\n",
    "- prediction : number of data $\\times$  number of classes"
   ]
  },
  {
   "cell_type": "code",
   "execution_count": null,
   "metadata": {},
   "outputs": [],
   "source": [
    "def compute_prediction(input, weight):\n",
    "\n",
    "# ================================================== \n",
    "# fill up the blank\n",
    "#\n",
    "    output = layer_fully_connected(input, weight)\n",
    "    prediction =  activation_softmax(output)\n",
    "\n",
    "#\n",
    "# ================================================== \n",
    "    \n",
    "    return prediction "
   ]
  },
  {
   "cell_type": "markdown",
   "metadata": {},
   "source": [
    "## define the loss function"
   ]
  },
  {
   "cell_type": "markdown",
   "metadata": {},
   "source": [
    "- cross entropy between the ground truth and the prediction\n",
    "- cross entropy : $- \\sum_k y_k \\log(h_k)$\n",
    "  - $y_k$ : $k$-th element in grount truth\n",
    "  - $h_k$ : $k$-th element in prediction\n",
    "- weight decay : $\\frac{\\alpha}{2} \\| w \\|_2^2$\n",
    "- prediction : number of data $\\times$  number of classes\n",
    "- label : number of data $\\times$  number of classes\n",
    "- loss : number of data $\\times$ 1 "
   ]
  },
  {
   "cell_type": "code",
   "execution_count": null,
   "metadata": {},
   "outputs": [],
   "source": [
    "def compute_loss_data_fidelity(prediction, label):\n",
    "\n",
    "# ================================================== \n",
    "# fill up the blank\n",
    "#\n",
    "\n",
    "    loss =  -1 * np.sum(label * np.log(prediction),axis= 1)\n",
    "\n",
    "#\n",
    "# ================================================== \n",
    "\n",
    "    return loss"
   ]
  },
  {
   "cell_type": "code",
   "execution_count": null,
   "metadata": {},
   "outputs": [
    {
     "name": "stdout",
     "output_type": "stream",
     "text": [
      "()\n",
      "[[1. 1. 1. ... 1. 1. 1.]\n",
      " [1. 1. 1. ... 1. 1. 1.]\n",
      " [1. 1. 1. ... 1. 1. 1.]\n",
      " ...\n",
      " [1. 1. 1. ... 1. 1. 1.]\n",
      " [1. 1. 1. ... 1. 1. 1.]\n",
      " [1. 1. 1. ... 1. 1. 1.]]\n"
     ]
    }
   ],
   "source": [
    "def compute_loss_regularization(weight, alpha):\n",
    "\n",
    "# ================================================== \n",
    "# fill up the blank\n",
    "#\n",
    "\n",
    "    loss = np.matmul(weight, weight.T)*alpha/2\n",
    "\n",
    "#\n",
    "# ================================================== \n",
    "    return loss"
   ]
  },
  {
   "cell_type": "code",
   "execution_count": null,
   "metadata": {},
   "outputs": [],
   "source": [
    "def compute_loss(prediction, label, weight, alpha):\n",
    "\n",
    "# ================================================== \n",
    "# fill up the blank\n",
    "#\n",
    "\n",
    "    loss = compute_loss_data_fidelity(prediction, label) + compute_loss_regularization(weight, label)\n",
    "\n",
    "#\n",
    "# ================================================== \n",
    "\n",
    "    return loss"
   ]
  },
  {
   "cell_type": "markdown",
   "metadata": {},
   "source": [
    "## compute the accuracy"
   ]
  },
  {
   "cell_type": "markdown",
   "metadata": {},
   "source": [
    "- prediction : number of data $\\times$  number of classes\n",
    "- label : number of data $\\times$  number of classes\n",
    "- accuracy : scalar\n",
    "- note that iterations over the input data are not allowed inside the function"
   ]
  },
  {
   "cell_type": "code",
   "execution_count": null,
   "metadata": {},
   "outputs": [],
   "source": [
    "def compute_accuracy(prediction, label):\n",
    "\n",
    "# ================================================== \n",
    "# fill up the blank\n",
    "#\n",
    "    num_data = label.shape[0]\n",
    "    \n",
    "    check_prediction = np.argmax(prediction,axis =1) == np.argmax(label,axis =1) \n",
    "    accuracy = np.count_nonzero(check_prediction == True) / num_data\n",
    "\n",
    "#\n",
    "# ================================================== \n",
    "\n",
    "    return accuracy"
   ]
  },
  {
   "cell_type": "markdown",
   "metadata": {},
   "source": [
    "## compute the gradient with respect to the weights"
   ]
  },
  {
   "cell_type": "markdown",
   "metadata": {},
   "source": [
    "- note that iterations over the input data are not allowed inside the function\n",
    "- input : number of data $\\times$ length of data\n",
    "- label : number of data $\\times$ number of classes\n",
    "- prediction : number of data $\\times$  number of classes\n",
    "- gradient : length of data $\\times$ number of classes"
   ]
  },
  {
   "cell_type": "code",
   "execution_count": null,
   "metadata": {},
   "outputs": [],
   "source": [
    "def compute_gradient_weight_data_fidelity(input, label, prediction):\n",
    "\n",
    "# ================================================== \n",
    "# fill up the blank\n",
    "#\n",
    "    num_data = prediction.size\n",
    "    sub_predic_label = prediction - label\n",
    "    gradient = np.matmul(input.T, sub_predic_label) / num_data\n",
    "\n",
    "#\n",
    "# ================================================== \n",
    "\n",
    "    return gradient"
   ]
  },
  {
   "cell_type": "code",
   "execution_count": null,
   "metadata": {},
   "outputs": [],
   "source": [
    "def compute_gradient_weight_regularization(weight, alpha):\n",
    "\n",
    "# ================================================== \n",
    "# fill up the blank\n",
    "#\n",
    "    gradient = alpha*weight\n",
    "\n",
    "#\n",
    "# ================================================== \n",
    "\n",
    "    return gradient"
   ]
  },
  {
   "cell_type": "code",
   "execution_count": null,
   "metadata": {},
   "outputs": [],
   "source": [
    "def compute_gradient_weight(input, label, prediction, weight, alpha):\n",
    "\n",
    "# ================================================== \n",
    "# fill up the blank\n",
    "#\n",
    "\n",
    "    gradient = compute_gradient_weight_data_fidelity(input, label, prediction) + compute_gradient_weight_regularization(weight, alpha)\n",
    "\n",
    "#\n",
    "# ================================================== \n",
    "\n",
    "    return gradient"
   ]
  },
  {
   "cell_type": "markdown",
   "metadata": {},
   "source": [
    "## gradient descent algorithm"
   ]
  },
  {
   "cell_type": "markdown",
   "metadata": {},
   "source": [
    "- hyper-parameters"
   ]
  },
  {
   "cell_type": "code",
   "execution_count": null,
   "metadata": {
    "tags": []
   },
   "outputs": [],
   "source": [
    "# ================================================== \n",
    "# fill up the blank\n",
    "#\n",
    "number_epoch        = 100\n",
    "size_minibatch      = 4\n",
    "learning_rate       = 0.01\n",
    "weight              = weight*0.01\n",
    "alpha               = 0.2\n",
    "#\n",
    "# ================================================== "
   ]
  },
  {
   "cell_type": "markdown",
   "metadata": {},
   "source": [
    "## variables for storing intermediate results"
   ]
  },
  {
   "cell_type": "code",
   "execution_count": null,
   "metadata": {},
   "outputs": [],
   "source": [
    "accuracy_train  = np.zeros(number_epoch)\n",
    "accuracy_test   = np.zeros(number_epoch)\n",
    "loss_train_mean = np.zeros(number_epoch)\n",
    "loss_train_std  = np.zeros(number_epoch)\n",
    "loss_test_mean  = np.zeros(number_epoch)\n",
    "loss_test_std   = np.zeros(number_epoch)"
   ]
  },
  {
   "cell_type": "markdown",
   "metadata": {},
   "source": [
    "## run the gradient descent algorithm"
   ]
  },
  {
   "cell_type": "code",
   "execution_count": null,
   "metadata": {},
   "outputs": [
    {
     "name": "stderr",
     "output_type": "stream",
     "text": [
      "  0%|          | 0/100 [00:00<?, ?it/s]\n"
     ]
    },
    {
     "ename": "ValueError",
     "evalue": "operands could not be broadcast together with shapes (785,785) (20000,10) ",
     "output_type": "error",
     "traceback": [
      "\u001b[0;31m---------------------------------------------------------------------------\u001b[0m",
      "\u001b[0;31mValueError\u001b[0m                                Traceback (most recent call last)",
      "Input \u001b[0;32mIn [81]\u001b[0m, in \u001b[0;36m<cell line: 6>\u001b[0;34m()\u001b[0m\n\u001b[1;32m     43\u001b[0m prediction_train    \u001b[38;5;241m=\u001b[39m compute_prediction(vec_x_train, weight)\n\u001b[1;32m     44\u001b[0m prediction_test     \u001b[38;5;241m=\u001b[39m compute_prediction(vec_x_test, weight)\n\u001b[0;32m---> 46\u001b[0m loss_train_mean[i]  \u001b[38;5;241m=\u001b[39m np\u001b[38;5;241m.\u001b[39mmean(\u001b[43mcompute_loss\u001b[49m\u001b[43m(\u001b[49m\u001b[43mprediction_train\u001b[49m\u001b[43m,\u001b[49m\u001b[43m \u001b[49m\u001b[43my_train\u001b[49m\u001b[43m,\u001b[49m\u001b[43m \u001b[49m\u001b[43mweight\u001b[49m\u001b[43m,\u001b[49m\u001b[43m \u001b[49m\u001b[43malpha\u001b[49m\u001b[43m)\u001b[49m)\n\u001b[1;32m     47\u001b[0m loss_test_mean[i]   \u001b[38;5;241m=\u001b[39m np\u001b[38;5;241m.\u001b[39mmean(compute_loss(prediction_test, y_test, weight, alpha))\n\u001b[1;32m     48\u001b[0m loss_train_std[i]   \u001b[38;5;241m=\u001b[39m np\u001b[38;5;241m.\u001b[39mstd(compute_loss(prediction_train, y_train, weight, alpha))\n",
      "Input \u001b[0;32mIn [74]\u001b[0m, in \u001b[0;36mcompute_loss\u001b[0;34m(prediction, label, weight, alpha)\u001b[0m\n\u001b[1;32m      1\u001b[0m \u001b[38;5;28;01mdef\u001b[39;00m \u001b[38;5;21mcompute_loss\u001b[39m(prediction, label, weight, alpha):\n\u001b[1;32m      2\u001b[0m \n\u001b[1;32m      3\u001b[0m \u001b[38;5;66;03m# ================================================== \u001b[39;00m\n\u001b[1;32m      4\u001b[0m \u001b[38;5;66;03m# fill up the blank\u001b[39;00m\n\u001b[1;32m      5\u001b[0m \u001b[38;5;66;03m#\u001b[39;00m\n\u001b[0;32m----> 7\u001b[0m     loss \u001b[38;5;241m=\u001b[39m compute_loss_data_fidelity(prediction, label) \u001b[38;5;241m+\u001b[39m \u001b[43mcompute_loss_regularization\u001b[49m\u001b[43m(\u001b[49m\u001b[43mweight\u001b[49m\u001b[43m,\u001b[49m\u001b[43m \u001b[49m\u001b[43mlabel\u001b[49m\u001b[43m)\u001b[49m\n\u001b[1;32m      9\u001b[0m \u001b[38;5;66;03m#\u001b[39;00m\n\u001b[1;32m     10\u001b[0m \u001b[38;5;66;03m# ================================================== \u001b[39;00m\n\u001b[1;32m     12\u001b[0m     \u001b[38;5;28;01mreturn\u001b[39;00m loss\n",
      "Input \u001b[0;32mIn [73]\u001b[0m, in \u001b[0;36mcompute_loss_regularization\u001b[0;34m(weight, alpha)\u001b[0m\n\u001b[1;32m      1\u001b[0m \u001b[38;5;28;01mdef\u001b[39;00m \u001b[38;5;21mcompute_loss_regularization\u001b[39m(weight, alpha):\n\u001b[1;32m      2\u001b[0m \n\u001b[1;32m      3\u001b[0m \u001b[38;5;66;03m# ================================================== \u001b[39;00m\n\u001b[1;32m      4\u001b[0m \u001b[38;5;66;03m# fill up the blank\u001b[39;00m\n\u001b[1;32m      5\u001b[0m \u001b[38;5;66;03m#\u001b[39;00m\n\u001b[0;32m----> 7\u001b[0m     loss \u001b[38;5;241m=\u001b[39m \u001b[43mnp\u001b[49m\u001b[38;5;241;43m.\u001b[39;49m\u001b[43mmatmul\u001b[49m\u001b[43m(\u001b[49m\u001b[43mweight\u001b[49m\u001b[43m,\u001b[49m\u001b[43m \u001b[49m\u001b[43mweight\u001b[49m\u001b[38;5;241;43m.\u001b[39;49m\u001b[43mT\u001b[49m\u001b[43m)\u001b[49m\u001b[38;5;241;43m*\u001b[39;49m\u001b[43malpha\u001b[49m\u001b[38;5;241m/\u001b[39m\u001b[38;5;241m2\u001b[39m\n\u001b[1;32m      9\u001b[0m \u001b[38;5;66;03m#\u001b[39;00m\n\u001b[1;32m     10\u001b[0m \u001b[38;5;66;03m# ================================================== \u001b[39;00m\n\u001b[1;32m     11\u001b[0m     \u001b[38;5;28mprint\u001b[39m(np\u001b[38;5;241m.\u001b[39mshape(alpha))\n",
      "\u001b[0;31mValueError\u001b[0m: operands could not be broadcast together with shapes (785,785) (20000,10) "
     ]
    }
   ],
   "source": [
    "def return_array(arr) :\n",
    "    return arr\n",
    "\n",
    "\n",
    "\n",
    "for i in tqdm(range(number_epoch)):\n",
    "\n",
    "    # ================================================== \n",
    "    # fill up the blank\n",
    "    # shuffle data at each epoch\n",
    "    #\n",
    "    \n",
    "    vec_x_train = np.apply_along_axis(return_array,axis=0, arr=vec_x_train)\n",
    "    vec_x_test = np.apply_along_axis(return_array,axis=0, arr=vec_x_test)\n",
    "\n",
    "    number_minibatch = size_minibatch\n",
    "    #\n",
    "    # ================================================== \n",
    "\n",
    "    for j in range(number_minibatch):\n",
    "\n",
    "        # ================================================== \n",
    "        # fill up the blank\n",
    "        # update weights using a mini-batch\n",
    "        #compute_gradient_weight(input, label, prediction, weight, alpha\n",
    "\n",
    "        num_train_minibatch = number_data_train // number_minibatch\n",
    "        num_test_minibatch = number_data_test // number_minibatch\n",
    "\n",
    "        vec_x_train_minibatch = vec_x_train[j*num_train_minibatch: (j+1)*num_train_minibatch, :]\n",
    "        vec_x_test_minibatch = vec_x_test[j*num_test_minibatch: (j+1)*num_test_minibatch, :]\n",
    "        y_train_minibatch = y_train[j*num_train_minibatch: (j+1)*num_train_minibatch, :]\n",
    "\n",
    "        prediction_train_minibatch = compute_prediction(vec_x_train_minibatch, weight)\n",
    "        prediction_test_minibatch = compute_prediction(vec_x_test_minibatch, weight)\n",
    "\n",
    "        gradient = compute_gradient_weight(vec_x_train_minibatch, y_train_minibatch, prediction_train_minibatch, weight, alpha)\n",
    "\n",
    "        weight = weight - learning_rate*gradient\n",
    "        #\n",
    "        # ================================================== \n",
    "\n",
    "    prediction_train    = compute_prediction(vec_x_train, weight)\n",
    "    prediction_test     = compute_prediction(vec_x_test, weight)\n",
    "\n",
    "    loss_train_mean[i]  = np.mean(compute_loss(prediction_train, y_train, weight, alpha))\n",
    "    loss_test_mean[i]   = np.mean(compute_loss(prediction_test, y_test, weight, alpha))\n",
    "    loss_train_std[i]   = np.std(compute_loss(prediction_train, y_train, weight, alpha))\n",
    "    loss_test_std[i]    = np.std(compute_loss(prediction_test, y_test, weight, alpha))\n",
    "\n",
    "    accuracy_train[i]   = compute_accuracy(prediction_train, y_train)\n",
    "    accuracy_test[i]    = compute_accuracy(prediction_test, y_test)"
   ]
  },
  {
   "cell_type": "markdown",
   "metadata": {},
   "source": [
    "---"
   ]
  },
  {
   "cell_type": "markdown",
   "metadata": {},
   "source": [
    "## functions for presenting the results"
   ]
  },
  {
   "cell_type": "markdown",
   "metadata": {},
   "source": [
    "---"
   ]
  },
  {
   "cell_type": "code",
   "execution_count": null,
   "metadata": {},
   "outputs": [],
   "source": [
    "def function_result_01():\n",
    "\n",
    "    title           = 'loss (training)'\n",
    "    label_axis_x    = 'epoch' \n",
    "    label_axis_y    = 'loss'\n",
    "    color_mean      = 'red'\n",
    "    color_std       = 'blue'\n",
    "    alpha           = 0.3\n",
    "\n",
    "    plt.figure(figsize=(8, 6))\n",
    "    plt.title(title)\n",
    "\n",
    "    plt.plot(range(len(loss_train_mean)), loss_train_mean, '-', color = color_mean)\n",
    "    plt.fill_between(range(len(loss_train_mean)), loss_train_mean - loss_train_std, loss_train_mean + loss_train_std, facecolor = color_std, alpha = alpha) \n",
    "    \n",
    "    plt.xlabel(label_axis_x)\n",
    "    plt.ylabel(label_axis_y)\n",
    "\n",
    "    plt.tight_layout()\n",
    "    plt.show()"
   ]
  },
  {
   "cell_type": "code",
   "execution_count": null,
   "metadata": {},
   "outputs": [],
   "source": [
    "def function_result_02():\n",
    "\n",
    "    title           = 'loss (testing)'\n",
    "    label_axis_x    = 'epoch' \n",
    "    label_axis_y    = 'loss'\n",
    "    color_mean      = 'red'\n",
    "    color_std       = 'blue'\n",
    "    alpha           = 0.3\n",
    "\n",
    "    plt.figure(figsize=(8, 6))\n",
    "    plt.title(title)\n",
    "\n",
    "    plt.plot(range(len(loss_test_mean)), loss_test_mean, '-', color = color_mean)\n",
    "    plt.fill_between(range(len(loss_test_mean)), loss_test_mean - loss_test_std, loss_test_mean + loss_test_std, facecolor = color_std, alpha = alpha) \n",
    "    \n",
    "    plt.xlabel(label_axis_x)\n",
    "    plt.ylabel(label_axis_y)\n",
    "\n",
    "    plt.tight_layout()\n",
    "    plt.show()"
   ]
  },
  {
   "cell_type": "code",
   "execution_count": null,
   "metadata": {},
   "outputs": [],
   "source": [
    "def function_result_03():\n",
    "\n",
    "    title           = 'accuracy (training)'\n",
    "    label_axis_x    = 'epoch' \n",
    "    label_axis_y    = 'accuracy'\n",
    "\n",
    "    plt.figure(figsize=(8, 6))\n",
    "    plt.title(title)\n",
    "\n",
    "    plt.plot(range(len(accuracy_train)), accuracy_train, '-', color = 'red')\n",
    "    \n",
    "    plt.xlabel(label_axis_x)\n",
    "    plt.ylabel(label_axis_y)\n",
    "\n",
    "    plt.tight_layout()\n",
    "    plt.show()"
   ]
  },
  {
   "cell_type": "code",
   "execution_count": null,
   "metadata": {},
   "outputs": [],
   "source": [
    "def function_result_04():\n",
    "\n",
    "    title           = 'accuracy (testing)'\n",
    "    label_axis_x    = 'epoch' \n",
    "    label_axis_y    = 'accuracy'\n",
    "\n",
    "    plt.figure(figsize=(8, 6))\n",
    "    plt.title(title)\n",
    "\n",
    "    plt.plot(range(len(accuracy_test)), accuracy_test, '-', color = 'red')\n",
    "    \n",
    "    plt.xlabel(label_axis_x)\n",
    "    plt.ylabel(label_axis_y)\n",
    "\n",
    "    plt.tight_layout()\n",
    "    plt.show()"
   ]
  },
  {
   "cell_type": "code",
   "execution_count": null,
   "metadata": {},
   "outputs": [],
   "source": [
    "def function_result_05():\n",
    "\n",
    "    print('final training accuracy = %9.8f' % (accuracy_train[-1]))"
   ]
  },
  {
   "cell_type": "code",
   "execution_count": null,
   "metadata": {},
   "outputs": [],
   "source": [
    "def function_result_06():\n",
    "\n",
    "    print('final testing accuracy = %9.8f' % (accuracy_test[-1]))"
   ]
  },
  {
   "cell_type": "markdown",
   "metadata": {},
   "source": [
    "---"
   ]
  },
  {
   "cell_type": "markdown",
   "metadata": {},
   "source": [
    "## results "
   ]
  },
  {
   "cell_type": "markdown",
   "metadata": {},
   "source": [
    "---"
   ]
  },
  {
   "cell_type": "code",
   "execution_count": null,
   "metadata": {},
   "outputs": [],
   "source": [
    "number_result = 6 \n",
    "\n",
    "for i in range(number_result):\n",
    "\n",
    "    title           = '# RESULT # {:02d}'.format(i+1) \n",
    "    name_function   = 'function_result_{:02d}()'.format(i+1)\n",
    "\n",
    "    print('') \n",
    "    print('################################################################################')\n",
    "    print('#') \n",
    "    print(title)\n",
    "    print('#') \n",
    "    print('################################################################################')\n",
    "    print('') \n",
    "\n",
    "    eval(name_function)"
   ]
  },
  {
   "cell_type": "code",
   "execution_count": null,
   "metadata": {},
   "outputs": [],
   "source": []
  }
 ],
 "metadata": {
  "interpreter": {
   "hash": "949777d72b0d2535278d3dc13498b2535136f6dfe0678499012e853ee9abcab1"
  },
  "kernelspec": {
   "display_name": "Python 3.10.4 64-bit",
   "name": "python3"
  },
  "language_info": {
   "codemirror_mode": {
    "name": "ipython",
    "version": 3
   },
   "file_extension": ".py",
   "mimetype": "text/x-python",
   "name": "python",
   "nbconvert_exporter": "python",
   "pygments_lexer": "ipython3",
   "version": "3.10.4"
  },
  "metadata": {
   "interpreter": {
    "hash": "31f2aee4e71d21fbe5cf8b01ff0e069b9275f58929596ceb00d14d90e3e16cd6"
   }
  }
 },
 "nbformat": 4,
 "nbformat_minor": 2
}
