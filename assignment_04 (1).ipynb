{
 "cells": [
  {
   "cell_type": "markdown",
   "metadata": {},
   "source": [
    "# A neural network for a classification with multiple labels"
   ]
  },
  {
   "cell_type": "markdown",
   "metadata": {},
   "source": [
    "## import library"
   ]
  },
  {
   "cell_type": "code",
   "execution_count": 789,
   "metadata": {},
   "outputs": [],
   "source": [
    "import numpy as np\n",
    "import matplotlib.image as img\n",
    "import matplotlib.pyplot as plt\n",
    "import matplotlib.colors as colors\n",
    "from matplotlib import ticker, cm\n",
    "import os\n",
    "from tqdm import tqdm"
   ]
  },
  {
   "cell_type": "markdown",
   "metadata": {},
   "source": [
    "## load data"
   ]
  },
  {
   "cell_type": "code",
   "execution_count": 790,
   "metadata": {},
   "outputs": [],
   "source": [
    "directory_data  = './'\n",
    "filename_data   = 'assignment_04_data.npz'\n",
    "path_data       = os.path.join(directory_data, filename_data) \n",
    "data            = np.load(path_data)\n",
    "\n",
    "x_train = data['x_train']\n",
    "y_train = data['y_train']\n",
    "\n",
    "x_test  = data['x_test']\n",
    "y_test  = data['y_test']\n",
    "\n",
    "x_train = np.asarray(x_train)\n",
    "y_train = np.asarray(y_train)\n",
    "\n",
    "x_test  = np.asarray(x_test)\n",
    "y_test  = np.asarray(y_test)\n",
    "\n",
    "vec_x_train = x_train.reshape(x_train.shape[0], x_train.shape[1] * x_train.shape[2])\n",
    "vec_x_test  = x_test.reshape(x_test.shape[0], x_test.shape[1] * x_test.shape[2])"
   ]
  },
  {
   "cell_type": "code",
   "execution_count": 791,
   "metadata": {},
   "outputs": [
    {
     "name": "stdout",
     "output_type": "stream",
     "text": [
      "*************************************************\n",
      "size of x_train : (10000, 28, 28)\n",
      "size of y_train : (10000, 5)\n",
      "*************************************************\n",
      "size of x_test : (4500, 28, 28)\n",
      "size of y_test : (4500, 5)\n",
      "*************************************************\n",
      "size of vector_x_train : (10000, 784)\n",
      "size of vector_x_test : (4500, 784)\n",
      "*************************************************\n"
     ]
    }
   ],
   "source": [
    "print('*************************************************')\n",
    "print('size of x_train :', x_train.shape)\n",
    "print('size of y_train :', y_train.shape)\n",
    "print('*************************************************')\n",
    "print('size of x_test :', x_test.shape)\n",
    "print('size of y_test :', y_test.shape)\n",
    "print('*************************************************')\n",
    "print('size of vector_x_train :', vec_x_train.shape)\n",
    "print('size of vector_x_test :', vec_x_test.shape)\n",
    "print('*************************************************')"
   ]
  },
  {
   "cell_type": "markdown",
   "metadata": {},
   "source": [
    "## index for each class"
   ]
  },
  {
   "cell_type": "code",
   "execution_count": 792,
   "metadata": {},
   "outputs": [],
   "source": [
    "number_class    = y_train.shape[1]\n",
    "length_data     = vec_x_train.shape[1]\n",
    "\n",
    "index_train = {}\n",
    "index_test  = {}\n",
    "\n",
    "number_index_train  = np.zeros(number_class)\n",
    "number_index_test   = np.zeros(number_class)\n",
    "\n",
    "for i in range(number_class):\n",
    "\n",
    "    index_train[i]  = np.where(y_train[:, i] == 1)\n",
    "    index_test[i]   = np.where(y_test[:, i] == 1)\n",
    "\n",
    "    number_index_train[i]   = np.shape(index_train[i])[1]\n",
    "    number_index_test[i]    = np.shape(index_test[i])[1]"
   ]
  },
  {
   "cell_type": "code",
   "execution_count": 793,
   "metadata": {},
   "outputs": [
    {
     "name": "stdout",
     "output_type": "stream",
     "text": [
      "*************************************************\n",
      "number of classes : 5\n",
      "length of data : 784\n",
      "*************************************************\n",
      "number of training images for each class : [2000. 2000. 2000. 2000. 2000.]\n",
      "number of testing images for each class : [900. 900. 900. 900. 900.]\n",
      "*************************************************\n"
     ]
    }
   ],
   "source": [
    "print('*************************************************')\n",
    "print('number of classes :', number_class)\n",
    "print('length of data :', length_data)\n",
    "print('*************************************************')\n",
    "print('number of training images for each class :', number_index_train)\n",
    "print('number of testing images for each class :', number_index_test)\n",
    "print('*************************************************')"
   ]
  },
  {
   "cell_type": "markdown",
   "metadata": {},
   "source": [
    "## plot grey image"
   ]
  },
  {
   "cell_type": "code",
   "execution_count": 794,
   "metadata": {},
   "outputs": [],
   "source": [
    "def plot_image(title, data):\n",
    "\n",
    "    nRow = 2\n",
    "    nCol = 4\n",
    "    size = 3 \n",
    "    \n",
    "    fig, axes = plt.subplots(nRow, nCol, figsize=(size * nCol, size * nRow))\n",
    "    fig.suptitle(title, fontsize=16)\n",
    "    \n",
    "    for i in range(nRow):\n",
    "        for j in range(nCol):\n",
    "\n",
    "            k = i * nCol + j\n",
    "            axes[i, j].imshow(data[k], cmap='gray', vmin=0, vmax=1)\n",
    "\n",
    "    plt.tight_layout()\n",
    "    plt.show()"
   ]
  },
  {
   "cell_type": "code",
   "execution_count": 795,
   "metadata": {},
   "outputs": [
    {
     "data": {
      "image/png": "[encoded data removed]",
      "text/plain": [
       "<Figure size 864x432 with 8 Axes>"
      ]
     },
     "metadata": {
      "needs_background": "light"
     },
     "output_type": "display_data"
    },
    {
     "data": {
      "image/png": "[encoded data removed]",
      "text/plain": [
       "<Figure size 864x432 with 8 Axes>"
      ]
     },
     "metadata": {
      "needs_background": "light"
     },
     "output_type": "display_data"
    },
    {
     "data": {
      "image/png": "[encoded data removed]",
      "text/plain": [
       "<Figure size 864x432 with 8 Axes>"
      ]
     },
     "metadata": {
      "needs_background": "light"
     },
     "output_type": "display_data"
    },
    {
     "data": {
      "image/png": "[encoded data removed]",
      "text/plain": [
       "<Figure size 864x432 with 8 Axes>"
      ]
     },
     "metadata": {
      "needs_background": "light"
     },
     "output_type": "display_data"
    },
    {
     "data": {
      "image/png": "[encoded data removed]",
      "text/plain": [
       "<Figure size 864x432 with 8 Axes>"
      ]
     },
     "metadata": {
      "needs_background": "light"
     },
     "output_type": "display_data"
    }
   ],
   "source": [
    "for c in range(number_class):\n",
    "\n",
    "    index_class = c\n",
    "    title       = 'training image for digit ' + str(index_class)\n",
    "    plot_image(title, x_train[index_train[index_class][0]])"
   ]
  },
  {
   "cell_type": "markdown",
   "metadata": {},
   "source": [
    "## initialize the neural network"
   ]
  },
  {
   "cell_type": "markdown",
   "metadata": {},
   "source": [
    "- neural network consists of fullly connected linear layer followed by softmax activation function\n",
    "- the size of the fully connected layer is input (length of data) and output (number of classes)"
   ]
  },
  {
   "cell_type": "markdown",
   "metadata": {},
   "source": [
    "## initialize the weights for the fully connected layer"
   ]
  },
  {
   "cell_type": "markdown",
   "metadata": {},
   "source": [
    "- create one matrix for the weights"
   ]
  },
  {
   "cell_type": "code",
   "execution_count": 796,
   "metadata": {},
   "outputs": [],
   "source": [
    "size_input  = length_data \n",
    "size_output = number_class\n",
    "\n",
    "weight = np.ones((size_input, size_output))"
   ]
  },
  {
   "cell_type": "code",
   "execution_count": 797,
   "metadata": {},
   "outputs": [
    {
     "name": "stdout",
     "output_type": "stream",
     "text": [
      "size of the weight : (784, 5)\n"
     ]
    }
   ],
   "source": [
    "print('size of the weight :', weight.shape)"
   ]
  },
  {
   "cell_type": "markdown",
   "metadata": {},
   "source": [
    "## define neural network "
   ]
  },
  {
   "cell_type": "markdown",
   "metadata": {},
   "source": [
    "### define softmax function "
   ]
  },
  {
   "cell_type": "markdown",
   "metadata": {},
   "source": [
    "- input : number of data $\\times$ number of classes\n",
    "- output : number of data $\\times$ number of classes"
   ]
  },
  {
   "cell_type": "code",
   "execution_count": 798,
   "metadata": {},
   "outputs": [],
   "source": [
    "def activation_softmax(input):\n",
    "\n",
    "# ================================================== \n",
    "# fill up the blank\n",
    "#\n",
    "    input = np.clip(input, -500, 500)\n",
    "    exp_input = np.exp(input)\n",
    "    sum_exp_input = exp_input.sum()\n",
    "    output = exp_input / (sum_exp_input + 1e-9)\n",
    "\n",
    "\n",
    "    #print(\"softmax shape num_data x class\", np.shape(output))\n",
    "#\n",
    "# ================================================== \n",
    "\n",
    "    return output \n"
   ]
  },
  {
   "cell_type": "markdown",
   "metadata": {},
   "source": [
    "### define the layer"
   ]
  },
  {
   "cell_type": "markdown",
   "metadata": {},
   "source": [
    "- input : number of data $\\times$ length of data\n",
    "- weight : length of data $\\times$ number of classes\n",
    "- output : number of data $\\times$  number of classes"
   ]
  },
  {
   "cell_type": "code",
   "execution_count": 799,
   "metadata": {},
   "outputs": [],
   "source": [
    "def layer_fully_connected(input, weight):\n",
    "\n",
    "# ================================================== \n",
    "# fill up the blank\n",
    "#\n",
    "\n",
    "    output = np.matmul(input, weight)\n",
    "\n",
    "\n",
    "    #print(\"layer shape num_data x class\",np.shape(output))\n",
    "#\n",
    "# ================================================== \n",
    "\n",
    "    return output"
   ]
  },
  {
   "cell_type": "markdown",
   "metadata": {},
   "source": [
    "## define forward propagation"
   ]
  },
  {
   "cell_type": "markdown",
   "metadata": {},
   "source": [
    "- input : number of data $\\times$ length of data\n",
    "- weight : length of data $\\times$ number of classes\n",
    "- prediction : number of data $\\times$  number of classes"
   ]
  },
  {
   "cell_type": "code",
   "execution_count": 800,
   "metadata": {},
   "outputs": [],
   "source": [
    "def compute_prediction(input, weight):\n",
    "\n",
    "# ================================================== \n",
    "# fill up the blank\n",
    "#\n",
    "    output = layer_fully_connected(input, weight)\n",
    "    prediction = activation_softmax(output)\n",
    "\n",
    "    #print(\"predic shape num_data x class\" ,np.shape(prediction))\n",
    "#\n",
    "# ================================================== \n",
    "    \n",
    "    return prediction "
   ]
  },
  {
   "cell_type": "markdown",
   "metadata": {},
   "source": [
    "## define the loss function"
   ]
  },
  {
   "cell_type": "markdown",
   "metadata": {},
   "source": [
    "- cross entropy between the ground truth and the prediction\n",
    "- cross entropy : $- \\sum_k y_k \\log(h_k)$\n",
    "  - $y_k$ : $k$-th element in grount truth\n",
    "  - $h_k$ : $k$-th element in prediction\n",
    "- prediction : number of data $\\times$  number of classes\n",
    "- label : number of data $\\times$  number of classes\n",
    "- loss : number of data $\\times$ 1 "
   ]
  },
  {
   "cell_type": "code",
   "execution_count": 801,
   "metadata": {},
   "outputs": [],
   "source": [
    "def compute_loss(prediction, label):\n",
    "\n",
    "# ================================================== \n",
    "# fill up the blank\n",
    "#\n",
    "    log_predic = np.log(prediction)\n",
    "    sigma_loss = log_predic*label\n",
    "    loss = -sigma_loss.sum(axis=1)\n",
    "\n",
    "\n",
    "    #print(\"loss shape num_data x 1\", np.shape(loss))\n",
    "#\n",
    "# ================================================== \n",
    "\n",
    "    return loss"
   ]
  },
  {
   "cell_type": "markdown",
   "metadata": {},
   "source": [
    "## compute the accuracy"
   ]
  },
  {
   "cell_type": "markdown",
   "metadata": {},
   "source": [
    "- prediction : number of data $\\times$  number of classes\n",
    "- label : number of data $\\times$  number of classes\n",
    "- accuracy : scalar\n",
    "- note that iterations over the input data are not allowed inside the function"
   ]
  },
  {
   "cell_type": "code",
   "execution_count": 802,
   "metadata": {},
   "outputs": [],
   "source": [
    "def compute_accuracy(prediction, label):\n",
    "\n",
    "# ================================================== \n",
    "# fill up the blank\n",
    "#\n",
    "    number_data = prediction.shape[1]\n",
    "    accuracy = 0\n",
    "\n",
    "    pred_index = np.argmax(prediction, axis=1)\n",
    "    label_index = np.argmax(label, axis=1) \n",
    "\n",
    "    for i in range(number_data) :\n",
    "        if(pred_index[i] == label_index[i]) :\n",
    "            accuracy = accuracy+1\n",
    "    accuracy = accuracy / number_data\n",
    "\n",
    "\n",
    "    #print(\"accuracy shape 1x1\",np.shape(accuracy))\n",
    "#\n",
    "# ================================================== \n",
    "\n",
    "    return accuracy"
   ]
  },
  {
   "cell_type": "markdown",
   "metadata": {},
   "source": [
    "## compute the gradient with respect to the weights"
   ]
  },
  {
   "cell_type": "markdown",
   "metadata": {},
   "source": [
    "- note that iterations over the input data are not allowed inside the function\n",
    "- input : number of data $\\times$ length of data\n",
    "- label : number of data $\\times$ number of classes\n",
    "- prediction : number of data $\\times$  number of classes\n",
    "- gradient : length of data $\\times$ number of classes"
   ]
  },
  {
   "cell_type": "code",
   "execution_count": 803,
   "metadata": {},
   "outputs": [],
   "source": [
    "def compute_gradient_weight(input, label, prediction):\n",
    "\n",
    "# ================================================== \n",
    "# fill up the blank\n",
    "#\n",
    "    num_data = prediction.size\n",
    "    sub_predic_label = prediction - label\n",
    "    gradient = np.matmul(input.T, sub_predic_label) / num_data\n",
    "\n",
    "\n",
    "    #print(\"gradient shape length data x number class\",np.shape(gradient))\n",
    "\n",
    "#\n",
    "# ================================================== \n",
    "\n",
    "    return gradient"
   ]
  },
  {
   "cell_type": "markdown",
   "metadata": {},
   "source": [
    "## gradient descent algorithm"
   ]
  },
  {
   "cell_type": "markdown",
   "metadata": {},
   "source": [
    "- hyper-parameters"
   ]
  },
  {
   "cell_type": "code",
   "execution_count": 804,
   "metadata": {
    "tags": []
   },
   "outputs": [],
   "source": [
    "number_iteration    = 20\n",
    "learning_rate       = 0.05\n",
    "weight              = weight * 0.001"
   ]
  },
  {
   "cell_type": "markdown",
   "metadata": {},
   "source": [
    "## variables for storing intermediate results"
   ]
  },
  {
   "cell_type": "code",
   "execution_count": 805,
   "metadata": {},
   "outputs": [],
   "source": [
    "accuracy_train  = np.zeros(number_iteration)\n",
    "accuracy_test   = np.zeros(number_iteration)\n",
    "\n",
    "loss_train_mean = np.zeros(number_iteration)\n",
    "loss_train_std  = np.zeros(number_iteration)\n",
    "loss_test_mean  = np.zeros(number_iteration)\n",
    "loss_test_std   = np.zeros(number_iteration)\n",
    "\n",
    "prediction_train_mean = np.zeros((number_class, number_iteration))\n",
    "prediction_test_mean  = np.zeros((number_class, number_iteration))"
   ]
  },
  {
   "cell_type": "markdown",
   "metadata": {},
   "source": [
    "## run the gradient descent algorithm"
   ]
  },
  {
   "cell_type": "code",
   "execution_count": 806,
   "metadata": {},
   "outputs": [
    {
     "name": "stderr",
     "output_type": "stream",
     "text": [
      "  5%|▌         | 1/20 [00:00<00:02,  7.63it/s]"
     ]
    },
    {
     "name": "stdout",
     "output_type": "stream",
     "text": [
      "layer shape num_data x class (10000, 5)\n",
      "softmax shape num_data x class (10000, 5)\n",
      "predic shape num_data x class (10000, 5)\n",
      "layer shape num_data x class (4500, 5)\n",
      "softmax shape num_data x class (4500, 5)\n",
      "predic shape num_data x class (4500, 5)\n",
      "loss shape num_data x 1 (10000,)\n",
      "loss shape num_data x 1 (4500,)\n",
      "gradient shape length data x number class (784, 5)\n",
      "accuracy shape 1x1 ()\n",
      "accuracy shape 1x1 ()\n",
      "layer shape num_data x class (10000, 5)\n",
      "softmax shape num_data x class (10000, 5)\n",
      "predic shape num_data x class (10000, 5)\n",
      "layer shape num_data x class (4500, 5)\n",
      "softmax shape num_data x class (4500, 5)\n",
      "predic shape num_data x class (4500, 5)\n",
      "loss shape num_data x 1 (10000,)\n",
      "loss shape num_data x 1 (4500,)\n",
      "gradient shape length data x number class (784, 5)\n",
      "accuracy shape 1x1 ()\n",
      "accuracy shape 1x1 ()\n",
      "layer shape num_data x class (10000, 5)\n",
      "softmax shape num_data x class (10000, 5)\n",
      "predic shape num_data x class (10000, 5)\n"
     ]
    },
    {
     "name": "stderr",
     "output_type": "stream",
     "text": [
      " 15%|█▌        | 3/20 [00:00<00:01, 10.05it/s]"
     ]
    },
    {
     "name": "stdout",
     "output_type": "stream",
     "text": [
      "layer shape num_data x class (4500, 5)\n",
      "softmax shape num_data x class (4500, 5)\n",
      "predic shape num_data x class (4500, 5)\n",
      "loss shape num_data x 1 (10000,)\n",
      "loss shape num_data x 1 (4500,)\n",
      "gradient shape length data x number class (784, 5)\n",
      "accuracy shape 1x1 ()\n",
      "accuracy shape 1x1 ()\n",
      "layer shape num_data x class (10000, 5)\n",
      "softmax shape num_data x class (10000, 5)\n",
      "predic shape num_data x class (10000, 5)\n",
      "layer shape num_data x class (4500, 5)\n",
      "softmax shape num_data x class (4500, 5)\n",
      "predic shape num_data x class (4500, 5)\n",
      "loss shape num_data x 1 (10000,)\n",
      "loss shape num_data x 1 (4500,)\n",
      "gradient shape length data x number class (784, 5)\n",
      "accuracy shape 1x1 ()\n",
      "accuracy shape 1x1 ()\n",
      "layer shape num_data x class (10000, 5)\n",
      "softmax shape num_data x class (10000, 5)\n",
      "predic shape num_data x class (10000, 5)\n",
      "layer shape num_data x class (4500, 5)\n",
      "softmax shape num_data x class (4500, 5)\n",
      "predic shape num_data x class (4500, 5)\n",
      "loss shape num_data x 1 (10000,)\n",
      "loss shape num_data x 1 (4500,)\n"
     ]
    },
    {
     "name": "stderr",
     "output_type": "stream",
     "text": [
      " 35%|███▌      | 7/20 [00:00<00:01, 11.27it/s]"
     ]
    },
    {
     "name": "stdout",
     "output_type": "stream",
     "text": [
      "gradient shape length data x number class (784, 5)\n",
      "accuracy shape 1x1 ()\n",
      "accuracy shape 1x1 ()\n",
      "layer shape num_data x class (10000, 5)\n",
      "softmax shape num_data x class (10000, 5)\n",
      "predic shape num_data x class (10000, 5)\n",
      "layer shape num_data x class (4500, 5)\n",
      "softmax shape num_data x class (4500, 5)\n",
      "predic shape num_data x class (4500, 5)\n",
      "loss shape num_data x 1 (10000,)\n",
      "loss shape num_data x 1 (4500,)\n",
      "gradient shape length data x number class (784, 5)\n",
      "accuracy shape 1x1 ()\n",
      "accuracy shape 1x1 ()\n",
      "layer shape num_data x class (10000, 5)\n",
      "softmax shape num_data x class (10000, 5)\n",
      "predic shape num_data x class (10000, 5)\n",
      "layer shape num_data x class (4500, 5)\n",
      "softmax shape num_data x class (4500, 5)\n",
      "predic shape num_data x class (4500, 5)\n",
      "loss shape num_data x 1 (10000,)\n",
      "loss shape num_data x 1 (4500,)\n",
      "gradient shape length data x number class (784, 5)\n",
      "accuracy shape 1x1 ()\n",
      "accuracy shape 1x1 ()\n",
      "layer shape num_data x class (10000, 5)\n",
      "softmax shape num_data x class (10000, 5)\n",
      "predic shape num_data x class (10000, 5)\n",
      "layer shape num_data x class (4500, 5)\n",
      "softmax shape num_data x class (4500, 5)\n",
      "predic shape num_data x class (4500, 5)\n"
     ]
    },
    {
     "name": "stderr",
     "output_type": "stream",
     "text": [
      " 45%|████▌     | 9/20 [00:00<00:00, 11.69it/s]"
     ]
    },
    {
     "name": "stdout",
     "output_type": "stream",
     "text": [
      "loss shape num_data x 1 (10000,)\n",
      "loss shape num_data x 1 (4500,)\n",
      "gradient shape length data x number class (784, 5)\n",
      "accuracy shape 1x1 ()\n",
      "accuracy shape 1x1 ()\n",
      "layer shape num_data x class (10000, 5)\n",
      "softmax shape num_data x class (10000, 5)\n",
      "predic shape num_data x class (10000, 5)\n",
      "layer shape num_data x class (4500, 5)\n",
      "softmax shape num_data x class (4500, 5)\n",
      "predic shape num_data x class (4500, 5)\n",
      "loss shape num_data x 1 (10000,)\n",
      "loss shape num_data x 1 (4500,)\n",
      "gradient shape length data x number class (784, 5)\n",
      "accuracy shape 1x1 ()\n",
      "accuracy shape 1x1 ()\n",
      "layer shape num_data x class (10000, 5)\n",
      "softmax shape num_data x class (10000, 5)\n",
      "predic shape num_data x class (10000, 5)\n",
      "layer shape num_data x class (4500, 5)\n",
      "softmax shape num_data x class (4500, 5)\n",
      "predic shape num_data x class (4500, 5)\n",
      "loss shape num_data x 1 (10000,)\n",
      "loss shape num_data x 1 (4500,)\n",
      "gradient shape length data x number class (784, 5)\n"
     ]
    },
    {
     "name": "stderr",
     "output_type": "stream",
     "text": [
      " 55%|█████▌    | 11/20 [00:00<00:00, 12.08it/s]"
     ]
    },
    {
     "name": "stdout",
     "output_type": "stream",
     "text": [
      "accuracy shape 1x1 ()\n",
      "accuracy shape 1x1 ()\n",
      "layer shape num_data x class (10000, 5)\n",
      "softmax shape num_data x class (10000, 5)\n",
      "predic shape num_data x class (10000, 5)\n",
      "layer shape num_data x class (4500, 5)\n",
      "softmax shape num_data x class (4500, 5)\n",
      "predic shape num_data x class (4500, 5)\n",
      "loss shape num_data x 1 (10000,)\n",
      "loss shape num_data x 1 (4500,)\n",
      "gradient shape length data x number class (784, 5)\n",
      "accuracy shape 1x1 ()\n",
      "accuracy shape 1x1 ()\n",
      "layer shape num_data x class (10000, 5)\n",
      "softmax shape num_data x class (10000, 5)\n",
      "predic shape num_data x class (10000, 5)\n",
      "layer shape num_data x class (4500, 5)\n",
      "softmax shape num_data x class (4500, 5)\n",
      "predic shape num_data x class (4500, 5)\n",
      "loss shape num_data x 1 (10000,)\n",
      "loss shape num_data x 1 (4500,)\n",
      "gradient shape length data x number class (784, 5)\n",
      "accuracy shape 1x1 ()\n",
      "accuracy shape 1x1 ()\n",
      "layer shape num_data x class (10000, 5)\n",
      "softmax shape num_data x class (10000, 5)\n",
      "predic shape num_data x class (10000, 5)\n",
      "layer shape num_data x class (4500, 5)\n",
      "softmax shape num_data x class (4500, 5)\n",
      "predic shape num_data x class (4500, 5)\n",
      "loss shape num_data x 1 (10000,)\n",
      "loss shape num_data x 1 (4500,)\n"
     ]
    },
    {
     "name": "stderr",
     "output_type": "stream",
     "text": [
      " 75%|███████▌  | 15/20 [00:01<00:00, 12.15it/s]"
     ]
    },
    {
     "name": "stdout",
     "output_type": "stream",
     "text": [
      "gradient shape length data x number class (784, 5)\n",
      "accuracy shape 1x1 ()\n",
      "accuracy shape 1x1 ()\n",
      "layer shape num_data x class (10000, 5)\n",
      "softmax shape num_data x class (10000, 5)\n",
      "predic shape num_data x class (10000, 5)\n",
      "layer shape num_data x class (4500, 5)\n",
      "softmax shape num_data x class (4500, 5)\n",
      "predic shape num_data x class (4500, 5)\n",
      "loss shape num_data x 1 (10000,)\n",
      "loss shape num_data x 1 (4500,)\n",
      "gradient shape length data x number class (784, 5)\n",
      "accuracy shape 1x1 ()\n",
      "accuracy shape 1x1 ()\n",
      "layer shape num_data x class (10000, 5)\n",
      "softmax shape num_data x class (10000, 5)\n",
      "predic shape num_data x class (10000, 5)\n",
      "layer shape num_data x class (4500, 5)\n",
      "softmax shape num_data x class (4500, 5)\n",
      "predic shape num_data x class (4500, 5)\n",
      "loss shape num_data x 1 (10000,)\n",
      "loss shape num_data x 1 (4500,)\n",
      "gradient shape length data x number class (784, 5)\n",
      "accuracy shape 1x1 ()\n",
      "accuracy shape 1x1 ()\n",
      "layer shape num_data x class (10000, 5)\n",
      "softmax shape num_data x class (10000, 5)\n",
      "predic shape num_data x class (10000, 5)\n",
      "layer shape num_data x class (4500, 5)\n",
      "softmax shape num_data x class (4500, 5)\n",
      "predic shape num_data x class (4500, 5)\n",
      "loss shape num_data x 1 (10000,)\n",
      "loss shape num_data x 1 (4500,)\n"
     ]
    },
    {
     "name": "stderr",
     "output_type": "stream",
     "text": [
      " 85%|████████▌ | 17/20 [00:01<00:00, 12.19it/s]"
     ]
    },
    {
     "name": "stdout",
     "output_type": "stream",
     "text": [
      "gradient shape length data x number class (784, 5)\n",
      "accuracy shape 1x1 ()\n",
      "accuracy shape 1x1 ()\n",
      "layer shape num_data x class (10000, 5)\n",
      "softmax shape num_data x class (10000, 5)\n",
      "predic shape num_data x class (10000, 5)\n",
      "layer shape num_data x class (4500, 5)\n",
      "softmax shape num_data x class (4500, 5)\n",
      "predic shape num_data x class (4500, 5)\n",
      "loss shape num_data x 1 (10000,)\n",
      "loss shape num_data x 1 (4500,)\n",
      "gradient shape length data x number class (784, 5)\n",
      "accuracy shape 1x1 ()\n",
      "accuracy shape 1x1 ()\n",
      "layer shape num_data x class (10000, 5)\n",
      "softmax shape num_data x class (10000, 5)\n",
      "predic shape num_data x class (10000, 5)\n",
      "layer shape num_data x class (4500, 5)\n",
      "softmax shape num_data x class (4500, 5)\n",
      "predic shape num_data x class (4500, 5)\n",
      "loss shape num_data x 1 (10000,)\n",
      "loss shape num_data x 1 (4500,)\n",
      "gradient shape length data x number class (784, 5)\n",
      "accuracy shape 1x1 ()\n",
      "accuracy shape 1x1 ()\n",
      "layer shape num_data x class (10000, 5)\n",
      "softmax shape num_data x class (10000, 5)\n",
      "predic shape num_data x class (10000, 5)\n",
      "layer shape num_data x class (4500, 5)\n",
      "softmax shape num_data x class (4500, 5)\n",
      "predic shape num_data x class (4500, 5)\n",
      "loss shape num_data x 1 (10000,)\n",
      "loss shape num_data x 1 (4500,)\n"
     ]
    },
    {
     "name": "stderr",
     "output_type": "stream",
     "text": [
      "100%|██████████| 20/20 [00:01<00:00, 11.83it/s]"
     ]
    },
    {
     "name": "stdout",
     "output_type": "stream",
     "text": [
      "gradient shape length data x number class (784, 5)\n",
      "accuracy shape 1x1 ()\n",
      "accuracy shape 1x1 ()\n",
      "layer shape num_data x class (10000, 5)\n",
      "softmax shape num_data x class (10000, 5)\n",
      "predic shape num_data x class (10000, 5)\n",
      "layer shape num_data x class (4500, 5)\n",
      "softmax shape num_data x class (4500, 5)\n",
      "predic shape num_data x class (4500, 5)\n",
      "loss shape num_data x 1 (10000,)\n",
      "loss shape num_data x 1 (4500,)\n",
      "gradient shape length data x number class (784, 5)\n",
      "accuracy shape 1x1 ()\n",
      "accuracy shape 1x1 ()\n"
     ]
    },
    {
     "name": "stderr",
     "output_type": "stream",
     "text": [
      "\n"
     ]
    }
   ],
   "source": [
    "for i in tqdm(range(number_iteration)):\n",
    "\n",
    "# ================================================== \n",
    "# fill up the blank\n",
    "# compute_accuracy(prediction, label)\n",
    "# compute_gradient_weight(input, label, prediction):\n",
    "# compute_loss(prediction, label):\n",
    "# compute_prediction(input, weight):\n",
    "# layer_fully_connected(input, weight):\n",
    "    train_pred = compute_prediction(vec_x_train, weight)\n",
    "    test_pred = compute_prediction(vec_x_test, weight)\n",
    "\n",
    "    train_loss = compute_loss(train_pred, y_train)\n",
    "    test_loss = compute_loss(test_pred, y_test)\n",
    "\n",
    "    gradient = compute_gradient_weight(vec_x_train, y_train, train_pred)\n",
    "    weight = weight - learning_rate*gradient\n",
    "#\n",
    "# ================================================== \n",
    "\n",
    "    accuracy_train[i]   = compute_accuracy(train_pred, y_train)\n",
    "    accuracy_test[i]    = compute_accuracy(test_pred, y_test)\n",
    "    \n",
    "    loss_train_mean[i]  = np.mean(train_loss, axis=0)\n",
    "    loss_train_std[i]   = np.std(train_loss,axis=0)\n",
    "    loss_test_mean[i]   = np.mean(test_loss,axis=0)\n",
    "    loss_test_std[i]    = np.std(test_loss, axis=0)\n",
    "\n",
    "    for c in range(number_class):\n",
    "\n",
    "       prediction_train_mean[c, i]   = 1\n",
    "       prediction_test_mean[c, i]    = 1"
   ]
  },
  {
   "cell_type": "markdown",
   "metadata": {},
   "source": [
    "---"
   ]
  },
  {
   "cell_type": "markdown",
   "metadata": {},
   "source": [
    "## functions for presenting the results"
   ]
  },
  {
   "cell_type": "markdown",
   "metadata": {},
   "source": [
    "---"
   ]
  },
  {
   "cell_type": "code",
   "execution_count": 807,
   "metadata": {},
   "outputs": [],
   "source": [
    "def function_result_01():\n",
    "\n",
    "    title           = 'loss (training)'\n",
    "    label_axis_x    = 'iteration' \n",
    "    label_axis_y    = 'loss'\n",
    "    color_mean      = 'red'\n",
    "    color_std       = 'blue'\n",
    "    alpha           = 0.3\n",
    "\n",
    "    plt.figure(figsize=(8, 6))\n",
    "    plt.title(title)\n",
    "\n",
    "    plt.plot(range(len(loss_train_mean)), loss_train_mean, '-', color = color_mean)\n",
    "    plt.fill_between(range(len(loss_train_mean)), loss_train_mean - loss_train_std, loss_train_mean + loss_train_std, facecolor = color_std, alpha = alpha) \n",
    "    \n",
    "    plt.xlabel(label_axis_x)\n",
    "    plt.ylabel(label_axis_y)\n",
    "\n",
    "    plt.tight_layout()\n",
    "    plt.show()"
   ]
  },
  {
   "cell_type": "code",
   "execution_count": 808,
   "metadata": {},
   "outputs": [],
   "source": [
    "def function_result_02():\n",
    "\n",
    "    title           = 'loss (testing)'\n",
    "    label_axis_x    = 'iteration' \n",
    "    label_axis_y    = 'loss'\n",
    "    color_mean      = 'red'\n",
    "    color_std       = 'blue'\n",
    "    alpha           = 0.3\n",
    "\n",
    "    plt.figure(figsize=(8, 6))\n",
    "    plt.title(title)\n",
    "\n",
    "    plt.plot(range(len(loss_test_mean)), loss_test_mean, '-', color = color_mean)\n",
    "    plt.fill_between(range(len(loss_test_mean)), loss_test_mean - loss_test_std, loss_test_mean + loss_test_std, facecolor = color_std, alpha = alpha) \n",
    "    \n",
    "    plt.xlabel(label_axis_x)\n",
    "    plt.ylabel(label_axis_y)\n",
    "\n",
    "    plt.tight_layout()\n",
    "    plt.show()"
   ]
  },
  {
   "cell_type": "code",
   "execution_count": 809,
   "metadata": {},
   "outputs": [],
   "source": [
    "def function_result_03():\n",
    "\n",
    "    title           = 'accuracy (training)'\n",
    "    label_axis_x    = 'iteration' \n",
    "    label_axis_y    = 'accuracy'\n",
    "\n",
    "    plt.figure(figsize=(8, 6))\n",
    "    plt.title(title)\n",
    "\n",
    "    plt.plot(range(len(accuracy_train)), accuracy_train, '-', color = 'red')\n",
    "    \n",
    "    plt.xlabel(label_axis_x)\n",
    "    plt.ylabel(label_axis_y)\n",
    "\n",
    "    plt.tight_layout()\n",
    "    plt.show()"
   ]
  },
  {
   "cell_type": "code",
   "execution_count": 810,
   "metadata": {},
   "outputs": [],
   "source": [
    "def function_result_04():\n",
    "\n",
    "    title           = 'accuracy (testing)'\n",
    "    label_axis_x    = 'iteration' \n",
    "    label_axis_y    = 'accuracy'\n",
    "\n",
    "    plt.figure(figsize=(8, 6))\n",
    "    plt.title(title)\n",
    "\n",
    "    plt.plot(range(len(accuracy_test)), accuracy_test, '-', color = 'red')\n",
    "    \n",
    "    plt.xlabel(label_axis_x)\n",
    "    plt.ylabel(label_axis_y)\n",
    "\n",
    "    plt.tight_layout()\n",
    "    plt.show()"
   ]
  },
  {
   "cell_type": "code",
   "execution_count": 811,
   "metadata": {},
   "outputs": [],
   "source": [
    "def function_result_05():\n",
    "    \n",
    "    title           = 'prediction (training)'\n",
    "    label_axis_x    = 'iteration' \n",
    "    label_axis_y    = 'prediction'\n",
    "\n",
    "    plt.figure(figsize=(8, 6))\n",
    "    plt.title(title)\n",
    "\n",
    "    for c in range(number_class):\n",
    "\n",
    "        plt.plot(prediction_train_mean[c], '-', label=str(c))\n",
    "    \n",
    "    plt.xlabel(label_axis_x)\n",
    "    plt.ylabel(label_axis_y)\n",
    "    plt.legend()\n",
    "    \n",
    "    plt.tight_layout()\n",
    "    plt.show()"
   ]
  },
  {
   "cell_type": "code",
   "execution_count": 812,
   "metadata": {},
   "outputs": [],
   "source": [
    "def function_result_06():\n",
    "    \n",
    "    title           = 'prediction (testing)'\n",
    "    label_axis_x    = 'iteration' \n",
    "    label_axis_y    = 'prediction'\n",
    "\n",
    "    plt.figure(figsize=(8, 6))\n",
    "    plt.title(title)\n",
    "\n",
    "    for c in range(number_class):\n",
    "\n",
    "        plt.plot(prediction_test_mean[c], '-', label=str(c))\n",
    "    \n",
    "    plt.xlabel(label_axis_x)\n",
    "    plt.ylabel(label_axis_y)\n",
    "    plt.legend()\n",
    "    \n",
    "    plt.tight_layout()\n",
    "    plt.show()"
   ]
  },
  {
   "cell_type": "code",
   "execution_count": 813,
   "metadata": {},
   "outputs": [],
   "source": [
    "def function_result_07():\n",
    "\n",
    "    print('final training loss = %6.5f' % (loss_train_mean[-1]))"
   ]
  },
  {
   "cell_type": "code",
   "execution_count": 814,
   "metadata": {},
   "outputs": [],
   "source": [
    "def function_result_08():\n",
    "\n",
    "    print('final testing loss = %6.5f' % (loss_test_mean[-1]))"
   ]
  },
  {
   "cell_type": "code",
   "execution_count": 815,
   "metadata": {},
   "outputs": [],
   "source": [
    "def function_result_09():\n",
    "\n",
    "    print('final training accuracy = %6.5f' % (accuracy_train[-1]))"
   ]
  },
  {
   "cell_type": "code",
   "execution_count": 816,
   "metadata": {},
   "outputs": [],
   "source": [
    "def function_result_10():\n",
    "\n",
    "    print('final testing accuracy = %6.5f' % (accuracy_test[-1]))"
   ]
  },
  {
   "cell_type": "markdown",
   "metadata": {},
   "source": [
    "---"
   ]
  },
  {
   "cell_type": "markdown",
   "metadata": {},
   "source": [
    "## results "
   ]
  },
  {
   "cell_type": "markdown",
   "metadata": {},
   "source": [
    "---"
   ]
  },
  {
   "cell_type": "code",
   "execution_count": 817,
   "metadata": {},
   "outputs": [
    {
     "name": "stdout",
     "output_type": "stream",
     "text": [
      "\n",
      "################################################################################\n",
      "#\n",
      "# RESULT # 01\n",
      "#\n",
      "################################################################################\n",
      "\n"
     ]
    },
    {
     "data": {
      "image/png": "[encoded data removed]",
      "text/plain": [
       "<Figure size 576x432 with 1 Axes>"
      ]
     },
     "metadata": {
      "needs_background": "light"
     },
     "output_type": "display_data"
    },
    {
     "name": "stdout",
     "output_type": "stream",
     "text": [
      "\n",
      "################################################################################\n",
      "#\n",
      "# RESULT # 02\n",
      "#\n",
      "################################################################################\n",
      "\n"
     ]
    },
    {
     "data": {
      "image/png": "[encoded data removed]",
      "text/plain": [
       "<Figure size 576x432 with 1 Axes>"
      ]
     },
     "metadata": {
      "needs_background": "light"
     },
     "output_type": "display_data"
    },
    {
     "name": "stdout",
     "output_type": "stream",
     "text": [
      "\n",
      "################################################################################\n",
      "#\n",
      "# RESULT # 03\n",
      "#\n",
      "################################################################################\n",
      "\n"
     ]
    },
    {
     "data": {
      "image/png": "[encoded data removed]",
      "text/plain": [
       "<Figure size 576x432 with 1 Axes>"
      ]
     },
     "metadata": {
      "needs_background": "light"
     },
     "output_type": "display_data"
    },
    {
     "name": "stdout",
     "output_type": "stream",
     "text": [
      "\n",
      "################################################################################\n",
      "#\n",
      "# RESULT # 04\n",
      "#\n",
      "################################################################################\n",
      "\n"
     ]
    },
    {
     "data": {
      "image/png": "[encoded data removed]",
      "text/plain": [
       "<Figure size 576x432 with 1 Axes>"
      ]
     },
     "metadata": {
      "needs_background": "light"
     },
     "output_type": "display_data"
    },
    {
     "name": "stdout",
     "output_type": "stream",
     "text": [
      "\n",
      "################################################################################\n",
      "#\n",
      "# RESULT # 05\n",
      "#\n",
      "################################################################################\n",
      "\n"
     ]
    },
    {
     "data": {
      "image/png": "[encoded data removed]",
      "text/plain": [
       "<Figure size 576x432 with 1 Axes>"
      ]
     },
     "metadata": {
      "needs_background": "light"
     },
     "output_type": "display_data"
    },
    {
     "name": "stdout",
     "output_type": "stream",
     "text": [
      "\n",
      "################################################################################\n",
      "#\n",
      "# RESULT # 06\n",
      "#\n",
      "################################################################################\n",
      "\n"
     ]
    },
    {
     "data": {
      "image/png": "[encoded data removed]",
      "text/plain": [
       "<Figure size 576x432 with 1 Axes>"
      ]
     },
     "metadata": {
      "needs_background": "light"
     },
     "output_type": "display_data"
    },
    {
     "name": "stdout",
     "output_type": "stream",
     "text": [
      "\n",
      "################################################################################\n",
      "#\n",
      "# RESULT # 07\n",
      "#\n",
      "################################################################################\n",
      "\n",
      "final training loss = 10.81978\n",
      "\n",
      "################################################################################\n",
      "#\n",
      "# RESULT # 08\n",
      "#\n",
      "################################################################################\n",
      "\n",
      "final testing loss = 10.02127\n",
      "\n",
      "################################################################################\n",
      "#\n",
      "# RESULT # 09\n",
      "#\n",
      "################################################################################\n",
      "\n",
      "final training accuracy = 1.00000\n",
      "\n",
      "################################################################################\n",
      "#\n",
      "# RESULT # 10\n",
      "#\n",
      "################################################################################\n",
      "\n",
      "final testing accuracy = 1.00000\n"
     ]
    }
   ],
   "source": [
    "number_result = 10 \n",
    "\n",
    "for i in range(number_result):\n",
    "\n",
    "    title           = '# RESULT # {:02d}'.format(i+1) \n",
    "    name_function   = 'function_result_{:02d}()'.format(i+1)\n",
    "\n",
    "    print('') \n",
    "    print('################################################################################')\n",
    "    print('#') \n",
    "    print(title)\n",
    "    print('#') \n",
    "    print('################################################################################')\n",
    "    print('') \n",
    "\n",
    "    eval(name_function)"
   ]
  },
  {
   "cell_type": "code",
   "execution_count": null,
   "metadata": {},
   "outputs": [],
   "source": []
  }
 ],
 "metadata": {
  "interpreter": {
   "hash": "949777d72b0d2535278d3dc13498b2535136f6dfe0678499012e853ee9abcab1"
  },
  "kernelspec": {
   "display_name": "Python 3.10.4 64-bit",
   "name": "python3"
  },
  "language_info": {
   "codemirror_mode": {
    "name": "ipython",
    "version": 3
   },
   "file_extension": ".py",
   "mimetype": "text/x-python",
   "name": "python",
   "nbconvert_exporter": "python",
   "pygments_lexer": "ipython3",
   "version": "3.10.4"
  },
  "metadata": {
   "interpreter": {
    "hash": "31f2aee4e71d21fbe5cf8b01ff0e069b9275f58929596ceb00d14d90e3e16cd6"
   }
  }
 },
 "nbformat": 4,
 "nbformat_minor": 2
}
