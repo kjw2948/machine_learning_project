{
  "cells": [
    {
      "cell_type": "markdown",
      "metadata": {
        "id": "63aOEusN1Tgf"
      },
      "source": [
        "# Unsupervised image denoising"
      ]
    },
    {
      "cell_type": "markdown",
      "metadata": {
        "id": "uCIAhtbr1Yhs"
      },
      "source": [
        "## Import libraries"
      ]
    },
    {
      "cell_type": "code",
      "execution_count": 1302,
      "metadata": {
        "id": "2xzQSB-t95mT"
      },
      "outputs": [],
      "source": [
        "import torch\n",
        "import torchvision\n",
        "from torch.utils.data import Dataset\n",
        "from os import listdir\n",
        "from os.path import join\n",
        "from torchvision.transforms import Compose, ToTensor, ToPILImage, Resize, Lambda, Normalize, Grayscale\n",
        "from torch.utils.data import DataLoader\n",
        "from PIL import Image\n",
        "import matplotlib.pyplot as plt\n",
        "import numpy as np\n",
        "import torch.nn as nn\n",
        "import torch.nn.functional as F\n",
        "import torch.optim as optim\n",
        "from math import log10\n",
        "from tqdm.notebook import tqdm\n",
        "import os"
      ]
    },
    {
      "cell_type": "markdown",
      "metadata": {
        "id": "3fvdQA9THZPs"
      },
      "source": [
        "## Load data"
      ]
    },
    {
      "cell_type": "code",
      "execution_count": 1303,
      "metadata": {
        "colab": {
          "base_uri": "https://localhost:8080/"
        },
        "id": "ckroXmQgHbCb",
        "outputId": "fcb34906-af70-44f5-870c-5cd42bc9c894"
      },
      "outputs": [],
      "source": [
        "directory_data  = './'\n",
        "filename_data   = 'assignment_08_data.npz'\n",
        "data            = np.load(os.path.join(directory_data, filename_data))\n",
        "\n",
        "train       = data['x_train'] \n",
        "train_noise = data['x_train_noise']\n",
        "\n",
        "test        = data['x_test'] \n",
        "test_noise  = data['x_test_noise']\n",
        "\n",
        "num_train   = train.shape[0]\n",
        "num_test    = test.shape[0]"
      ]
    },
    {
      "cell_type": "code",
      "execution_count": 1304,
      "metadata": {},
      "outputs": [
        {
          "name": "stdout",
          "output_type": "stream",
          "text": [
            "*************************************************\n",
            "size of train : (10000, 32, 32)\n",
            "size of train_noise : (10000, 32, 32)\n",
            "*************************************************\n",
            "size of test : (5000, 32, 32)\n",
            "size of test_noise : (5000, 32, 32)\n",
            "*************************************************\n"
          ]
        }
      ],
      "source": [
        "print('*************************************************')\n",
        "print('size of train :', train.shape)\n",
        "print('size of train_noise :', train_noise.shape)\n",
        "print('*************************************************')\n",
        "print('size of test :', test.shape)\n",
        "print('size of test_noise :', test_noise.shape)\n",
        "print('*************************************************')"
      ]
    },
    {
      "cell_type": "markdown",
      "metadata": {},
      "source": [
        "## plot examples of the data"
      ]
    },
    {
      "cell_type": "code",
      "execution_count": 1305,
      "metadata": {},
      "outputs": [
        {
          "data": {
            "image/png": "[encoded data removed]",
            "text/plain": [
              "<Figure size 576x288 with 8 Axes>"
            ]
          },
          "metadata": {
            "needs_background": "light"
          },
          "output_type": "display_data"
        }
      ],
      "source": [
        "nRow = 2\n",
        "nCol = 4\n",
        "size = 2\n",
        "\n",
        "title       = 'examples of the data'\n",
        "fig, axes   = plt.subplots(nRow, nCol, figsize=(size * nCol, size * nRow))\n",
        "fig.suptitle(title, fontsize=16)\n",
        "\n",
        "for c in range(nCol):\n",
        "\n",
        "    axes[0, c].imshow(train[c * 1000], cmap='gray')\n",
        "    axes[1, c].imshow(train_noise[c * 1000], cmap='gray')\n",
        "\n",
        "    axes[0, c].xaxis.set_visible(False)\n",
        "    axes[1, c].xaxis.set_visible(False)\n",
        "    \n",
        "    axes[0, c].yaxis.set_visible(False)\n",
        "    axes[1, c].yaxis.set_visible(False)\n",
        "\n",
        "plt.tight_layout()\n",
        "plt.show()"
      ]
    },
    {
      "cell_type": "markdown",
      "metadata": {},
      "source": [
        "## custom data loader for the PyTorch framework"
      ]
    },
    {
      "cell_type": "code",
      "execution_count": 1306,
      "metadata": {},
      "outputs": [],
      "source": [
        "class dataset(Dataset):\n",
        "    \n",
        "    def __init__(self, image, image_noise):\n",
        "        \n",
        "        self.image          = image\n",
        "        self.image_noise    = image_noise\n",
        "    \n",
        "    def __getitem__(self, index):\n",
        "        \n",
        "        image       = self.image[index]\n",
        "        image_noise = self.image_noise[index]\n",
        "\n",
        "        image       = torch.FloatTensor(image).unsqueeze(dim=0)\n",
        "        image_noise = torch.FloatTensor(image_noise).unsqueeze(dim=0)\n",
        "\n",
        "        return (image, image_noise)\n",
        "    \n",
        "    def __len__(self):\n",
        "\n",
        "        number_image = self.image.shape[0]\n",
        "\n",
        "        return number_image"
      ]
    },
    {
      "cell_type": "markdown",
      "metadata": {},
      "source": [
        "## setting device"
      ]
    },
    {
      "cell_type": "code",
      "execution_count": 1307,
      "metadata": {},
      "outputs": [],
      "source": [
        "device = torch.device('cuda' if torch.cuda.is_available() else 'cpu')"
      ]
    },
    {
      "cell_type": "code",
      "execution_count": 1308,
      "metadata": {},
      "outputs": [
        {
          "name": "stdout",
          "output_type": "stream",
          "text": [
            "cpu\n"
          ]
        }
      ],
      "source": [
        "print(device)"
      ]
    },
    {
      "cell_type": "markdown",
      "metadata": {},
      "source": [
        "## construct datasets and dataloaders for testing and testing"
      ]
    },
    {
      "cell_type": "code",
      "execution_count": 1309,
      "metadata": {},
      "outputs": [],
      "source": [
        "# ================================================== \n",
        "# determine your own parameter value\n",
        "#\n",
        "size_minibatch      = 50\n",
        "#\n",
        "# ================================================== \n",
        "\n",
        "dataset_train       = dataset(train, train_noise)\n",
        "dataset_test        = dataset(test, test_noise)\n",
        "\n",
        "dataloader_train    = torch.utils.data.DataLoader(dataset_train, batch_size=size_minibatch, shuffle=True, drop_last=True)\n",
        "dataloader_test     = torch.utils.data.DataLoader(dataset_test, batch_size=size_minibatch, shuffle=True, drop_last=True)"
      ]
    },
    {
      "cell_type": "markdown",
      "metadata": {},
      "source": [
        "## shape of the data when using the data loader"
      ]
    },
    {
      "cell_type": "code",
      "execution_count": 1310,
      "metadata": {},
      "outputs": [],
      "source": [
        "train_image, train_image_noise = next(iter(dataloader_train))\n",
        "test_image, test_image_noise = next(iter(dataloader_test))"
      ]
    },
    {
      "cell_type": "code",
      "execution_count": 1311,
      "metadata": {},
      "outputs": [
        {
          "name": "stdout",
          "output_type": "stream",
          "text": [
            "************************************************************\n",
            "size of mini-batch of the training image: torch.Size([50, 1, 32, 32])\n",
            "************************************************************\n",
            "size of mini-batch of the training image_noise: torch.Size([50, 1, 32, 32])\n",
            "************************************************************\n",
            "size of mini-batch of the testing image: torch.Size([50, 1, 32, 32])\n",
            "************************************************************\n",
            "size of mini-batch of the testing image_noise: torch.Size([50, 1, 32, 32])\n",
            "************************************************************\n"
          ]
        }
      ],
      "source": [
        "print('************************************************************')\n",
        "print('size of mini-batch of the training image:', train_image.shape)\n",
        "print('************************************************************')\n",
        "print('size of mini-batch of the training image_noise:', train_image_noise.shape)\n",
        "print('************************************************************')\n",
        "print('size of mini-batch of the testing image:', test_image.shape)\n",
        "print('************************************************************')\n",
        "print('size of mini-batch of the testing image_noise:', test_image_noise.shape)\n",
        "print('************************************************************')"
      ]
    },
    {
      "cell_type": "markdown",
      "metadata": {
        "id": "8ngJeHXH2dfj"
      },
      "source": [
        "## construct a neural network "
      ]
    },
    {
      "cell_type": "code",
      "execution_count": 1312,
      "metadata": {
        "id": "PjlHwUOV-UCh"
      },
      "outputs": [],
      "source": [
        "# ================================================== \n",
        "# define your own neural network architecture and initialization\n",
        "#\n",
        "class Network(nn.Module):\n",
        "    def __init__(self):\n",
        "        super(Network,self).__init__()\n",
        "\n",
        "        # -------------------------------------------------\n",
        "        # Encoder\n",
        "        # -------------------------------------------------\n",
        "        self.encoder_layer1 = nn.Sequential(\n",
        "            nn.Conv2d(in_channels=1, out_channels=2, kernel_size=3, stride=1, padding=1, bias=True),  \n",
        "            nn.MaxPool2d(2,2),\n",
        "            nn.ReLU(),\n",
        "            nn.BatchNorm2d(2),\n",
        "        )\n",
        "        \n",
        "        self.encoder_layer2 = nn.Sequential(\n",
        "            nn.Conv2d(in_channels=2, out_channels=4, kernel_size=3, stride=1, padding=1, bias=True),\n",
        "            nn.MaxPool2d(2,2),\n",
        "            nn.ReLU(),\n",
        "            nn.BatchNorm2d(4),\n",
        "        )\n",
        "\n",
        "        # -------------------------------------------------\n",
        "        # Decoder\n",
        "        # -------------------------------------------------\n",
        "        self.decoder_layer2 = nn.Sequential(\n",
        "            nn.Upsample(scale_factor=2, mode='bilinear', align_corners=False),\n",
        "            nn.Conv2d(in_channels=4, out_channels=2, kernel_size=3, stride=1, padding=1, bias=True),\n",
        "            nn.ReLU(),\n",
        "            nn.BatchNorm2d(2),\n",
        "        )\n",
        "        \n",
        "        self.decoder_layer1 = nn.Sequential(\n",
        "            nn.Upsample(scale_factor=2, mode='bilinear', align_corners=False),\n",
        "            nn.Conv2d(in_channels=2, out_channels=1, kernel_size=3, stride=1, padding=1, bias=True),\n",
        "            nn.Sigmoid(),\n",
        "        )\n",
        "\n",
        "        # -------------------------------------------------\n",
        "        # Network\n",
        "        # -------------------------------------------------\n",
        "        self.network = nn.Sequential(\n",
        "            self.encoder_layer1,\n",
        "            self.encoder_layer2,\n",
        "            self.decoder_layer2, \n",
        "            self.decoder_layer1,\n",
        "        )\n",
        "        \n",
        "        self.initialize_weight()\n",
        "\n",
        "    def forward(self,x):\n",
        "    \n",
        "        out = self.network(x)\n",
        "      \n",
        "        return out\n",
        "\n",
        "    # ======================================================================\n",
        "    # initialize weights\n",
        "    # ======================================================================\n",
        "    def initialize_weight(self):\n",
        "            \n",
        "        for m in self.network.modules():\n",
        "            \n",
        "            if isinstance(m, nn.Conv2d):\n",
        "\n",
        "                nn.init.xavier_uniform_(m.weight) \n",
        "                if m.bias is not None:\n",
        "\n",
        "                    nn.init.constant_(m.bias, 1)\n",
        "                    pass\n",
        "                    \n",
        "            elif isinstance(m, nn.BatchNorm2d):\n",
        "                \n",
        "                nn.init.constant_(m.weight, 1)\n",
        "                nn.init.constant_(m.bias, 1)\n",
        "                \n",
        "            elif isinstance(m, nn.Linear):\n",
        "\n",
        "                nn.init.xavier_uniform_(m.weight)\n",
        "\n",
        "                if m.bias is not None:\n",
        "                    \n",
        "                    nn.init.constant_(m.bias, 1)\n",
        "                    pass\n",
        "#\n",
        "# ================================================== "
      ]
    },
    {
      "cell_type": "markdown",
      "metadata": {
        "id": "vTXZnsrGLoxg"
      },
      "source": [
        "## build the network"
      ]
    },
    {
      "cell_type": "code",
      "execution_count": 1313,
      "metadata": {
        "id": "xsGGOsXKLuc1"
      },
      "outputs": [],
      "source": [
        "# ================================================== \n",
        "# determine your own parameter value\n",
        "#\n",
        "learning_rate   = 0.00001\n",
        "weight_decay    = 0.0\n",
        "alpha           = 0.0001\n",
        "number_epoch    = 50\n",
        "#\n",
        "# ================================================== \n",
        "\n",
        "model       = Network().to(device)\n",
        "optimizer   = torch.optim.Adam(model.parameters(), lr=learning_rate, weight_decay=weight_decay)"
      ]
    },
    {
      "cell_type": "markdown",
      "metadata": {
        "id": "6yE9LChkQ5G2"
      },
      "source": [
        "## compute the prediction"
      ]
    },
    {
      "cell_type": "code",
      "execution_count": 1314,
      "metadata": {
        "id": "9mgS8kzGQ502"
      },
      "outputs": [],
      "source": [
        "def compute_prediction(model, input):\n",
        "\n",
        "    prediction = model(input)\n",
        "\n",
        "    return prediction"
      ]
    },
    {
      "cell_type": "markdown",
      "metadata": {
        "id": "UQVz0ChdM9KL"
      },
      "source": [
        "## compute the loss"
      ]
    },
    {
      "cell_type": "markdown",
      "metadata": {},
      "source": [
        "## compute the data fidelity term\n",
        "- use the mean squared error for the data fidelity term\n",
        "- use the following loss function `nn.MSELoss()`\n",
        "- input dimension: mini-batch-size x channel x height x width"
      ]
    },
    {
      "cell_type": "code",
      "execution_count": 1315,
      "metadata": {},
      "outputs": [],
      "source": [
        "def compute_loss_data_fidelity(prediction, original):\n",
        "    # ================================================== \n",
        "    # fill up the blank\n",
        "    #    \n",
        "    loss = nn.MSELoss()(prediction, original)\n",
        "    #\n",
        "    # ================================================== \n",
        "\n",
        "    return loss"
      ]
    },
    {
      "cell_type": "markdown",
      "metadata": {},
      "source": [
        "## compute the regularization term\n",
        "- use the total variation for the regularization term\n",
        "- use the following loss function: $\\frac{1}{n} \\sum_{x, y} \\lvert \\frac{\\partial}{\\partial x} f(x, y) \\rvert + \\frac{1}{n} \\sum_{x, y} \\lvert \\frac{\\partial}{\\partial y} f(x, y) \\rvert$\n",
        "- use the neumann boundary condition (gradient of the boundary to the normal direction is zero)"
      ]
    },
    {
      "cell_type": "code",
      "execution_count": 1316,
      "metadata": {},
      "outputs": [],
      "source": [
        "def compute_loss_regularization(prediction):\n",
        "    # ================================================== \n",
        "    # fill up the blank\n",
        "    #\n",
        "    num_data = prediction.shape[0]*prediction.shape[2]*prediction.shape[3]\n",
        "    #zero_x_column = np.zeros((prediction.shape[0],1))  \n",
        "    #zero_y_column = np.zeros((1,prediction.shape[1])) \n",
        "\n",
        "    x_diff_array = torch.abs(torch.diff(prediction, axis=0))\n",
        "    y_diff_array = torch.abs(torch.diff(prediction, axis=1))\n",
        "\n",
        "    #x_diff_boundary = np.hstack([x_diff_array,zero_x_column])\n",
        "    # y_diff_boundary = np.vstack([y_diff_array, zero_y_column])\n",
        "    loss = (torch.sum(x_diff_array) + torch.sum(y_diff_array)) / num_data\n",
        "    #\n",
        "    # ================================================== \n",
        "    return loss"
      ]
    },
    {
      "cell_type": "markdown",
      "metadata": {},
      "source": [
        "## compute the total loss\n",
        "- total loss = data fidelity + $\\alpha$ * regularization\n",
        "- $\\alpha \\in \\mathbb{R}$"
      ]
    },
    {
      "cell_type": "code",
      "execution_count": 1317,
      "metadata": {
        "id": "XbvdtlxKNAmm"
      },
      "outputs": [],
      "source": [
        "def compute_loss(prediction, original, alpha):\n",
        "    # ================================================== \n",
        "    # fill up the blank\n",
        "    #    \n",
        "    loss_data_fidelity  = compute_loss_data_fidelity(prediction, original)\n",
        "    loss_regularization = compute_loss_regularization(prediction)\n",
        "\n",
        "    loss = loss_data_fidelity + alpha * loss_regularization\n",
        "    #\n",
        "    # ================================================== \n",
        "\n",
        "    return (loss, loss_data_fidelity, loss_regularization)"
      ]
    },
    {
      "cell_type": "markdown",
      "metadata": {},
      "source": [
        "## compute the loss value"
      ]
    },
    {
      "cell_type": "code",
      "execution_count": 1318,
      "metadata": {},
      "outputs": [],
      "source": [
        "def compute_loss_value(loss):\n",
        "    \n",
        "    loss_value = loss.item()\n",
        "    \n",
        "    return loss_value"
      ]
    },
    {
      "cell_type": "markdown",
      "metadata": {
        "id": "lKGc41X7NZ_M"
      },
      "source": [
        "## compute the PSNR metric"
      ]
    },
    {
      "cell_type": "markdown",
      "metadata": {},
      "source": [
        "- input dimension: mini-batch-size x channel x height x width\n",
        "- psnr is defined by $10 * \\log_{10}(\\frac{1}{\\textrm{MSE}})$\n",
        "- MSE is defined by $\\textrm{MSE}(x, y) = \\frac{1}{n} \\| x - y \\|_2^2$ where $n$ is the length of data $x$ and $y$"
      ]
    },
    {
      "cell_type": "code",
      "execution_count": 1319,
      "metadata": {},
      "outputs": [],
      "source": [
        "def compute_psnr(data1, data2):\n",
        "\n",
        "    mse         = nn.MSELoss()(data1, data2)\n",
        "    mse_value   = mse.item()\n",
        "    psnr        = 10 * np.log10(1 / mse_value)\n",
        "\n",
        "    return psnr"
      ]
    },
    {
      "cell_type": "markdown",
      "metadata": {
        "id": "9UIl4gCp2hE6"
      },
      "source": [
        "## Variable for the learning curves"
      ]
    },
    {
      "cell_type": "code",
      "execution_count": 1320,
      "metadata": {
        "id": "NXs-w_99-cuZ"
      },
      "outputs": [],
      "source": [
        "loss_train_mean = np.zeros(number_epoch)\n",
        "loss_train_std  = np.zeros(number_epoch)\n",
        "psnr_train_mean = np.zeros(number_epoch)\n",
        "psnr_train_std  = np.zeros(number_epoch)\n",
        "\n",
        "loss_test_mean  = np.zeros(number_epoch)\n",
        "loss_test_std   = np.zeros(number_epoch)\n",
        "psnr_test_mean  = np.zeros(number_epoch)\n",
        "psnr_test_std   = np.zeros(number_epoch)\n",
        "\n",
        "loss_train_data_fidelity_mean   = np.zeros(number_epoch)\n",
        "loss_train_data_fidelity_std    = np.zeros(number_epoch)\n",
        "loss_train_regularization_mean  = np.zeros(number_epoch)\n",
        "loss_train_regularization_std   = np.zeros(number_epoch)\n",
        "\n",
        "loss_test_data_fidelity_mean    = np.zeros(number_epoch)\n",
        "loss_test_data_fidelity_std     = np.zeros(number_epoch)\n",
        "loss_test_regularization_mean   = np.zeros(number_epoch)\n",
        "loss_test_regularization_std    = np.zeros(number_epoch)"
      ]
    },
    {
      "cell_type": "markdown",
      "metadata": {
        "id": "y7HWScczDn6S"
      },
      "source": [
        "## train"
      ]
    },
    {
      "cell_type": "code",
      "execution_count": 1321,
      "metadata": {
        "id": "Q3p34UDlDqWg"
      },
      "outputs": [],
      "source": [
        "def train(model, optimizer, dataloader):\n",
        "\n",
        "    loss_epoch                  = []\n",
        "    loss_data_fidelity_epoch    = []\n",
        "    loss_regularization_epoch   = []\n",
        "    psnr_epoch                  = []\n",
        "\n",
        "    model.train()\n",
        "\n",
        "    for index_batch, (image, image_noise) in enumerate(dataloader):\n",
        "\n",
        "        image       = image.to(device)\n",
        "        image_noise = image_noise.to(device)\n",
        "\n",
        "        # ================================================== \n",
        "        # fill up the blank\n",
        "        # def compute_loss(prediction, original, alpha) \n",
        "        # \n",
        "        optimizer.zero_grad()            \n",
        "        prediction = compute_prediction(model, image_noise)\n",
        "        loss_value                  = compute_loss(prediction, image_noise, alpha)[0]\n",
        "        loss                        = compute_loss_value(loss_value)\n",
        "        loss_data_fidelity_value    = compute_loss_value(compute_loss(prediction, image_noise, alpha)[1])\n",
        "        loss_regularization_value   = compute_loss_value(compute_loss(prediction, image_noise, alpha)[2])\n",
        "        psnr                        = compute_psnr(prediction, image)\n",
        "        #\n",
        "        # ================================================== \n",
        "    \n",
        "        loss_epoch.append(loss)\n",
        "        loss_data_fidelity_epoch.append(loss_data_fidelity_value)\n",
        "        loss_regularization_epoch.append(loss_regularization_value)\n",
        "        psnr_epoch.append(psnr)\n",
        "\n",
        "        # ================================================== \n",
        "        # fill up the blank (update moodel parameters)\n",
        "        #        \n",
        "        loss_value.backward()\n",
        "        optimizer.step()\n",
        "        #\n",
        "        # ==================================================  \n",
        "\n",
        "    loss_mean   = np.mean(loss_epoch)\n",
        "    loss_std    = np.std(loss_epoch)\n",
        "\n",
        "    loss_data_fidelity_mean = np.mean(loss_data_fidelity_epoch)\n",
        "    loss_data_fidelity_std  = np.std(loss_data_fidelity_epoch)\n",
        "\n",
        "    loss_regularization_mean    = np.mean(loss_regularization_epoch)\n",
        "    loss_regularization_std     = np.std(loss_regularization_epoch)\n",
        "    \n",
        "    psnr_mean   = np.mean(psnr_epoch)\n",
        "    psnr_std    = np.std(psnr_epoch)\n",
        "\n",
        "    loss                = {'mean' : loss_mean, 'std' : loss_std}\n",
        "    loss_data_fidelity  = {'mean' : loss_data_fidelity_mean, 'std' : loss_data_fidelity_std}\n",
        "    loss_regularization = {'mean' : loss_regularization_mean, 'std' : loss_regularization_std}\n",
        "    psnr                = {'mean' : psnr_mean, 'std' : psnr_std}\n",
        "\n",
        "    return (loss, loss_data_fidelity, loss_regularization, psnr)"
      ]
    },
    {
      "cell_type": "code",
      "execution_count": 1322,
      "metadata": {},
      "outputs": [
        {
          "name": "stdout",
          "output_type": "stream",
          "text": [
            "<class 'torch.Tensor'>\n"
          ]
        }
      ],
      "source": [
        "    for index_batch, (image, image_noise) in enumerate(dataloader_train):\n",
        "\n",
        "        image       = image.to(device)\n",
        "        image_noise = image_noise.to(device)\n",
        "    print(type(image))"
      ]
    },
    {
      "cell_type": "markdown",
      "metadata": {
        "id": "C783v5uJE1Y9"
      },
      "source": [
        "## test"
      ]
    },
    {
      "cell_type": "code",
      "execution_count": 1323,
      "metadata": {
        "id": "xJz-987xE38P"
      },
      "outputs": [],
      "source": [
        "def test(model, dataloader):\n",
        "\n",
        "    loss_epoch                  = []\n",
        "    loss_data_fidelity_epoch    = []\n",
        "    loss_regularization_epoch   = []\n",
        "    psnr_epoch                  = []\n",
        "\n",
        "    model.eval()\n",
        "\n",
        "    for index_batch, (image, image_noise) in enumerate(dataloader):\n",
        "    \n",
        "        image       = image.to(device)\n",
        "        image_noise = image_noise.to(device)\n",
        "\n",
        "        # ================================================== \n",
        "        # fill up the blank\n",
        "        #               \n",
        "        prediction = compute_prediction(model, image_noise)\n",
        "        loss_value                  = compute_loss_value(compute_loss(prediction, image_noise, alpha)[0])\n",
        "        loss_data_fidelity_value    = compute_loss_value(compute_loss(prediction, image_noise, alpha)[1])\n",
        "        loss_regularization_value   = compute_loss_value(compute_loss(prediction, image_noise, alpha)[2])\n",
        "        psnr                        = compute_psnr(prediction, image)\n",
        "        #\n",
        "        # ================================================== \n",
        "\n",
        "        loss_epoch.append(loss_value)\n",
        "        loss_data_fidelity_epoch.append(loss_data_fidelity_value)\n",
        "        loss_regularization_epoch.append(loss_regularization_value)\n",
        "        psnr_epoch.append(psnr)\n",
        "\n",
        "    loss_mean   = np.mean(loss_epoch)\n",
        "    loss_std    = np.std(loss_epoch)\n",
        "\n",
        "    loss_data_fidelity_mean = np.mean(loss_data_fidelity_epoch)\n",
        "    loss_data_fidelity_std  = np.std(loss_data_fidelity_epoch)\n",
        "\n",
        "    loss_regularization_mean    = np.mean(loss_regularization_epoch)\n",
        "    loss_regularization_std     = np.std(loss_regularization_epoch)\n",
        "    \n",
        "    psnr_mean   = np.mean(psnr_epoch)\n",
        "    psnr_std    = np.std(psnr_epoch)\n",
        "\n",
        "    loss                = {'mean' : loss_mean, 'std' : loss_std}\n",
        "    loss_data_fidelity  = {'mean' : loss_data_fidelity_mean, 'std' : loss_data_fidelity_std}\n",
        "    loss_regularization = {'mean' : loss_regularization_mean, 'std' : loss_regularization_std}\n",
        "    psnr                = {'mean' : psnr_mean, 'std' : psnr_std}\n",
        "\n",
        "    return (loss, loss_data_fidelity, loss_regularization, psnr)"
      ]
    },
    {
      "cell_type": "markdown",
      "metadata": {
        "id": "j9ZcyzVkFsex"
      },
      "source": [
        "## train and test"
      ]
    },
    {
      "cell_type": "code",
      "execution_count": 1324,
      "metadata": {
        "colab": {
          "base_uri": "https://localhost:8080/",
          "height": 48,
          "referenced_widgets": [
            "615b93ce41b942dca1478631e8392279",
            "7578d2a5f0af4ba78a765bc38535c98d",
            "3ed9a840122c424d8aa9909122696711",
            "ae11af637c7a45feabdf6211993b2a18",
            "cf2f6798487e4bb984eea0153ad5ef41",
            "b934d7dec0ff49feb04fb5ffe1a6e91e",
            "e88cb30590ab474691856d3b14feb67e",
            "edeeb015d40d4e91bd739ff9d5de0649",
            "e60dc2f6fa774b1d807a4b77be08548b",
            "fafd0841d1974cccb4b46231de87f52b",
            "dbcad030067f46c29ca184fe962e7851"
          ]
        },
        "id": "l6Qtqgv8-fMW",
        "outputId": "200d8680-f289-4440-ad95-1ff0709e5a1b"
      },
      "outputs": [
        {
          "data": {
            "application/vnd.jupyter.widget-view+json": {
              "model_id": "73fa6490cbe24a758de70595bab56a6a",
              "version_major": 2,
              "version_minor": 0
            },
            "text/plain": [
              "  0%|          | 0/50 [00:00<?, ?it/s]"
            ]
          },
          "metadata": {},
          "output_type": "display_data"
        }
      ],
      "source": [
        "# ================================================================================\n",
        "# \n",
        "# iterations for epochs\n",
        "#\n",
        "# ================================================================================\n",
        "for i in tqdm(range(number_epoch)):\n",
        "    \n",
        "    # ================================================================================\n",
        "    # \n",
        "    # training\n",
        "    #\n",
        "    # ================================================================================\n",
        "    (loss_train, loss_data_fidelity_train, loss_regularization_train, psnr_train) = train(model, optimizer, dataloader_train)\n",
        "\n",
        "    loss_train_mean[i]  = loss_train['mean']\n",
        "    loss_train_std[i]   = loss_train['std']\n",
        "\n",
        "    loss_train_data_fidelity_mean[i]    = loss_data_fidelity_train['mean']\n",
        "    loss_train_data_fidelity_std[i]     = loss_data_fidelity_train['std']\n",
        "\n",
        "    loss_train_regularization_mean[i]   = loss_regularization_train['mean']\n",
        "    loss_train_regularization_std[i]    = loss_regularization_train['std']\n",
        "\n",
        "    psnr_train_mean[i]  = psnr_train['mean']\n",
        "    psnr_train_std[i]   = psnr_train['std']\n",
        "\n",
        "    # ================================================================================\n",
        "    # \n",
        "    # testing\n",
        "    #\n",
        "    # ================================================================================\n",
        "    (loss_test, loss_data_fidelity_test, loss_regularization_test, psnr_test) = test(model, dataloader_test)\n",
        "\n",
        "    loss_test_mean[i]  = loss_test['mean']\n",
        "    loss_test_std[i]   = loss_test['std']\n",
        "\n",
        "    loss_test_data_fidelity_mean[i]    = loss_data_fidelity_test['mean']\n",
        "    loss_test_data_fidelity_std[i]     = loss_data_fidelity_test['std']\n",
        "\n",
        "    loss_test_regularization_mean[i]   = loss_regularization_test['mean']\n",
        "    loss_test_regularization_std[i]    = loss_regularization_test['std']\n",
        "\n",
        "    psnr_test_mean[i]  = psnr_test['mean']\n",
        "    psnr_test_std[i]   = psnr_test['std']"
      ]
    },
    {
      "cell_type": "markdown",
      "metadata": {},
      "source": [
        "---"
      ]
    },
    {
      "cell_type": "markdown",
      "metadata": {},
      "source": [
        "## functions for presenting the results"
      ]
    },
    {
      "cell_type": "markdown",
      "metadata": {},
      "source": [
        "---"
      ]
    },
    {
      "cell_type": "code",
      "execution_count": null,
      "metadata": {
        "id": "Tp50r3lh-o-P"
      },
      "outputs": [],
      "source": [
        "def function_result_01():\n",
        "    \n",
        "    title           = 'loss (training)'\n",
        "    label_axis_x    = 'epoch' \n",
        "    label_axis_y    = 'loss'\n",
        "    color_mean      = 'red'\n",
        "    color_std       = 'blue'\n",
        "    alpha           = 0.3\n",
        "\n",
        "    plt.figure(figsize=(8, 6))\n",
        "    plt.title(title)\n",
        "\n",
        "    plt.plot(range(len(loss_train_mean)), loss_train_mean, '-', color = color_mean)\n",
        "    plt.fill_between(range(len(loss_train_mean)), loss_train_mean - loss_train_std, loss_train_mean + loss_train_std, facecolor = color_std, alpha = alpha) \n",
        "    \n",
        "    plt.xlabel(label_axis_x)\n",
        "    plt.ylabel(label_axis_y)\n",
        "\n",
        "    plt.tight_layout()\n",
        "    plt.show()"
      ]
    },
    {
      "cell_type": "code",
      "execution_count": null,
      "metadata": {},
      "outputs": [],
      "source": [
        "def function_result_02():\n",
        "    \n",
        "    title           = 'loss - data fidelity (training)'\n",
        "    label_axis_x    = 'epoch' \n",
        "    label_axis_y    = 'loss'\n",
        "    color_mean      = 'red'\n",
        "    color_std       = 'blue'\n",
        "    alpha           = 0.3\n",
        "\n",
        "    plt.figure(figsize=(8, 6))\n",
        "    plt.title(title)\n",
        "\n",
        "    plt.plot(range(len(loss_train_data_fidelity_mean)), loss_train_data_fidelity_mean, '-', color = color_mean)\n",
        "    plt.fill_between(range(len(loss_train_data_fidelity_mean)), loss_train_data_fidelity_mean - loss_train_data_fidelity_std, loss_train_data_fidelity_mean + loss_train_data_fidelity_std, facecolor = color_std, alpha = alpha) \n",
        "    \n",
        "    plt.xlabel(label_axis_x)\n",
        "    plt.ylabel(label_axis_y)\n",
        "\n",
        "    plt.tight_layout()\n",
        "    plt.show()"
      ]
    },
    {
      "cell_type": "code",
      "execution_count": null,
      "metadata": {},
      "outputs": [],
      "source": [
        "def function_result_03():\n",
        "    \n",
        "    title           = 'loss - regularization (training)'\n",
        "    label_axis_x    = 'epoch' \n",
        "    label_axis_y    = 'loss'\n",
        "    color_mean      = 'red'\n",
        "    color_std       = 'blue'\n",
        "    alpha           = 0.3\n",
        "\n",
        "    plt.figure(figsize=(8, 6))\n",
        "    plt.title(title)\n",
        "\n",
        "    plt.plot(range(len(loss_train_regularization_mean)), loss_train_regularization_mean, '-', color = color_mean)\n",
        "    plt.fill_between(range(len(loss_train_regularization_mean)), loss_train_regularization_mean - loss_train_regularization_std, loss_train_regularization_mean + loss_train_regularization_std, facecolor = color_std, alpha = alpha) \n",
        "    \n",
        "    plt.xlabel(label_axis_x)\n",
        "    plt.ylabel(label_axis_y)\n",
        "\n",
        "    plt.tight_layout()\n",
        "    plt.show()"
      ]
    },
    {
      "cell_type": "code",
      "execution_count": null,
      "metadata": {},
      "outputs": [],
      "source": [
        "def function_result_04():\n",
        "    \n",
        "    title           = 'loss (testing)'\n",
        "    label_axis_x    = 'epoch' \n",
        "    label_axis_y    = 'loss'\n",
        "    color_mean      = 'red'\n",
        "    color_std       = 'blue'\n",
        "    alpha           = 0.3\n",
        "\n",
        "    plt.figure(figsize=(8, 6))\n",
        "    plt.title(title)\n",
        "\n",
        "    plt.plot(range(len(loss_test_mean)), loss_test_mean, '-', color = color_mean)\n",
        "    plt.fill_between(range(len(loss_test_mean)), loss_test_mean - loss_test_std, loss_test_mean + loss_test_std, facecolor = color_std, alpha = alpha) \n",
        "    \n",
        "    plt.xlabel(label_axis_x)\n",
        "    plt.ylabel(label_axis_y)\n",
        "\n",
        "    plt.tight_layout()\n",
        "    plt.show()"
      ]
    },
    {
      "cell_type": "code",
      "execution_count": null,
      "metadata": {},
      "outputs": [],
      "source": [
        "def function_result_05():\n",
        "    \n",
        "    title           = 'loss - data fidelity (testing)'\n",
        "    label_axis_x    = 'epoch' \n",
        "    label_axis_y    = 'loss'\n",
        "    color_mean      = 'red'\n",
        "    color_std       = 'blue'\n",
        "    alpha           = 0.3\n",
        "\n",
        "    plt.figure(figsize=(8, 6))\n",
        "    plt.title(title)\n",
        "\n",
        "    plt.plot(range(len(loss_test_data_fidelity_mean)), loss_test_data_fidelity_mean, '-', color = color_mean)\n",
        "    plt.fill_between(range(len(loss_test_data_fidelity_mean)), loss_test_data_fidelity_mean - loss_test_data_fidelity_std, loss_test_data_fidelity_mean + loss_test_data_fidelity_std, facecolor = color_std, alpha = alpha) \n",
        "    \n",
        "    plt.xlabel(label_axis_x)\n",
        "    plt.ylabel(label_axis_y)\n",
        "\n",
        "    plt.tight_layout()\n",
        "    plt.show()"
      ]
    },
    {
      "cell_type": "code",
      "execution_count": null,
      "metadata": {},
      "outputs": [],
      "source": [
        "def function_result_06():\n",
        "    \n",
        "    title           = 'loss - regularization (testing)'\n",
        "    label_axis_x    = 'epoch' \n",
        "    label_axis_y    = 'loss'\n",
        "    color_mean      = 'red'\n",
        "    color_std       = 'blue'\n",
        "    alpha           = 0.3\n",
        "\n",
        "    plt.figure(figsize=(8, 6))\n",
        "    plt.title(title)\n",
        "\n",
        "    plt.plot(range(len(loss_test_regularization_mean)), loss_test_regularization_mean, '-', color = color_mean)\n",
        "    plt.fill_between(range(len(loss_test_regularization_mean)), loss_test_regularization_mean - loss_test_regularization_std, loss_test_regularization_mean + loss_test_regularization_std, facecolor = color_std, alpha = alpha) \n",
        "    \n",
        "    plt.xlabel(label_axis_x)\n",
        "    plt.ylabel(label_axis_y)\n",
        "\n",
        "    plt.tight_layout()\n",
        "    plt.show()"
      ]
    },
    {
      "cell_type": "code",
      "execution_count": null,
      "metadata": {},
      "outputs": [],
      "source": [
        "def function_result_07():\n",
        "    \n",
        "    title           = 'psnr (training)'\n",
        "    label_axis_x    = 'epoch' \n",
        "    label_axis_y    = 'psnr'\n",
        "    color_mean      = 'red'\n",
        "    color_std       = 'blue'\n",
        "    alpha           = 0.3\n",
        "\n",
        "    plt.figure(figsize=(8, 6))\n",
        "    plt.title(title)\n",
        "\n",
        "    plt.plot(range(len(psnr_train_mean)), psnr_train_mean, '-', color = color_mean)\n",
        "    plt.fill_between(range(len(psnr_train_mean)), psnr_train_mean - psnr_train_std, psnr_train_mean + psnr_train_std, facecolor = color_std, alpha = alpha) \n",
        "    \n",
        "    plt.xlabel(label_axis_x)\n",
        "    plt.ylabel(label_axis_y)\n",
        "\n",
        "    plt.tight_layout()\n",
        "    plt.show()"
      ]
    },
    {
      "cell_type": "code",
      "execution_count": null,
      "metadata": {},
      "outputs": [],
      "source": [
        "def function_result_08():\n",
        "    \n",
        "    title           = 'psnr (testing)'\n",
        "    label_axis_x    = 'epoch' \n",
        "    label_axis_y    = 'psnr'\n",
        "    color_mean      = 'red'\n",
        "    color_std       = 'blue'\n",
        "    alpha           = 0.3\n",
        "\n",
        "    plt.figure(figsize=(8, 6))\n",
        "    plt.title(title)\n",
        "\n",
        "    plt.plot(range(len(psnr_test_mean)), psnr_test_mean, '-', color = color_mean)\n",
        "    plt.fill_between(range(len(psnr_test_mean)), psnr_test_mean - psnr_test_std, psnr_test_mean + psnr_test_std, facecolor = color_std, alpha = alpha) \n",
        "    \n",
        "    plt.xlabel(label_axis_x)\n",
        "    plt.ylabel(label_axis_y)\n",
        "\n",
        "    plt.tight_layout()\n",
        "    plt.show()"
      ]
    },
    {
      "cell_type": "code",
      "execution_count": null,
      "metadata": {},
      "outputs": [],
      "source": [
        "def function_result_09():\n",
        "\n",
        "    nRow = 9\n",
        "    nCol = 3\n",
        "    size = 3 \n",
        "    \n",
        "    title = 'training results'\n",
        "    fig, axes = plt.subplots(nRow, nCol, figsize=(size * nCol, size * nRow))\n",
        "    fig.suptitle(title, fontsize=16)\n",
        "\n",
        "    index_image = np.array([0, 1000, 2000, 3000, 4000, 5000, 6000, 7000, 8000])\n",
        "\n",
        "    image           = torch.FloatTensor(dataset_train.image[index_image]).unsqueeze(dim=1).to(device)\n",
        "    image_noise     = torch.FloatTensor(dataset_train.image_noise[index_image]).unsqueeze(dim=1).to(device)\n",
        "    image_denoise   = compute_prediction(model, image_noise)\n",
        "\n",
        "    image           = image.detach().cpu().squeeze(axis=1)\n",
        "    image_noise     = image_noise.detach().cpu().squeeze(axis=1)\n",
        "    image_denoise   = image_denoise.detach().cpu().squeeze(axis=1)\n",
        "\n",
        "    nStep = 3\n",
        "    \n",
        "    for r in range(3):\n",
        "        for c in range(nCol):\n",
        "\n",
        "            axes[0 + r * nStep, c].imshow(image_noise[c + r * nStep], cmap='gray')\n",
        "            axes[1 + r * nStep, c].imshow(image[c + r * nStep], cmap='gray', vmin=0, vmax=1)\n",
        "            axes[2 + r * nStep, c].imshow(image_denoise[c + r * nStep], cmap='gray', vmin=0, vmax=1)\n",
        "\n",
        "            axes[0 + r * nStep, c].xaxis.set_visible(False)\n",
        "            axes[1 + r * nStep, c].xaxis.set_visible(False)\n",
        "            axes[2 + r * nStep, c].xaxis.set_visible(False)\n",
        "            \n",
        "            axes[0 + r * nStep, c].yaxis.set_visible(False)\n",
        "            axes[1 + r * nStep, c].yaxis.set_visible(False)\n",
        "            axes[2 + r * nStep, c].yaxis.set_visible(False)\n",
        "\n",
        "    plt.tight_layout()\n",
        "    plt.show()"
      ]
    },
    {
      "cell_type": "code",
      "execution_count": null,
      "metadata": {},
      "outputs": [],
      "source": [
        "def function_result_10():\n",
        "    \n",
        "    nRow = 9 \n",
        "    nCol = 3\n",
        "    size = 3\n",
        "    \n",
        "    title = 'testing results'\n",
        "    fig, axes = plt.subplots(nRow, nCol, figsize=(size * nCol, size * nRow))\n",
        "    fig.suptitle(title, fontsize=16)\n",
        "\n",
        "    index_image     = np.array([0, 500, 1000, 1500, 2000, 2500, 3000, 3500, 4000])\n",
        "    \n",
        "    image           = torch.FloatTensor(dataset_test.image[index_image]).unsqueeze(dim=1).to(device)\n",
        "    image_noise     = torch.FloatTensor(dataset_test.image_noise[index_image]).unsqueeze(dim=1).to(device)\n",
        "    image_denoise   = compute_prediction(model, image_noise)\n",
        "\n",
        "    image           = image.detach().cpu().squeeze(axis=1)\n",
        "    image_noise     = image_noise.detach().cpu().squeeze(axis=1)\n",
        "    image_denoise   = image_denoise.detach().cpu().squeeze(axis=1)\n",
        "\n",
        "    nStep = 3\n",
        "\n",
        "    for r in range(3):\n",
        "        for c in range(nCol):\n",
        "\n",
        "            axes[0 + r * nStep, c].imshow(image_noise[c + r * nStep], cmap='gray')\n",
        "            axes[1 + r * nStep, c].imshow(image[c + r * nStep], cmap='gray', vmin=0, vmax=1)\n",
        "            axes[2 + r * nStep, c].imshow(image_denoise[c + r * nStep], cmap='gray', vmin=0, vmax=1)\n",
        "\n",
        "            axes[0 + r * nStep, c].xaxis.set_visible(False)\n",
        "            axes[1 + r * nStep, c].xaxis.set_visible(False)\n",
        "            axes[2 + r * nStep, c].xaxis.set_visible(False)\n",
        "            \n",
        "            axes[0 + r * nStep, c].yaxis.set_visible(False)\n",
        "            axes[1 + r * nStep, c].yaxis.set_visible(False)\n",
        "            axes[2 + r * nStep, c].yaxis.set_visible(False)\n",
        "\n",
        "    plt.tight_layout()\n",
        "    plt.show()"
      ]
    },
    {
      "cell_type": "code",
      "execution_count": null,
      "metadata": {},
      "outputs": [],
      "source": [
        "def function_result_11():\n",
        "    \n",
        "    print('final training psnr = %9.8f' % (psnr_train_mean[-1]))"
      ]
    },
    {
      "cell_type": "code",
      "execution_count": null,
      "metadata": {},
      "outputs": [],
      "source": [
        "def function_result_12():\n",
        "    \n",
        "    print('final testing psnr = %9.8f' % (psnr_test_mean[-1]))"
      ]
    },
    {
      "cell_type": "markdown",
      "metadata": {},
      "source": [
        "---"
      ]
    },
    {
      "cell_type": "markdown",
      "metadata": {},
      "source": [
        "## results "
      ]
    },
    {
      "cell_type": "markdown",
      "metadata": {},
      "source": [
        "---"
      ]
    },
    {
      "cell_type": "code",
      "execution_count": null,
      "metadata": {},
      "outputs": [
        {
          "name": "stdout",
          "output_type": "stream",
          "text": [
            "\n",
            "################################################################################\n",
            "#\n",
            "# RESULT # 01\n",
            "#\n",
            "################################################################################\n",
            "\n"
          ]
        },
        {
          "data": {
            "image/png": "[encoded data removed]",
            "text/plain": [
              "<Figure size 576x432 with 1 Axes>"
            ]
          },
          "metadata": {
            "needs_background": "light"
          },
          "output_type": "display_data"
        },
        {
          "name": "stdout",
          "output_type": "stream",
          "text": [
            "\n",
            "################################################################################\n",
            "#\n",
            "# RESULT # 02\n",
            "#\n",
            "################################################################################\n",
            "\n"
          ]
        },
        {
          "data": {
            "image/png": "[encoded data removed]",
            "text/plain": [
              "<Figure size 576x432 with 1 Axes>"
            ]
          },
          "metadata": {
            "needs_background": "light"
          },
          "output_type": "display_data"
        },
        {
          "name": "stdout",
          "output_type": "stream",
          "text": [
            "\n",
            "################################################################################\n",
            "#\n",
            "# RESULT # 03\n",
            "#\n",
            "################################################################################\n",
            "\n"
          ]
        },
        {
          "data": {
            "image/png": "[encoded data removed]",
            "text/plain": [
              "<Figure size 576x432 with 1 Axes>"
            ]
          },
          "metadata": {
            "needs_background": "light"
          },
          "output_type": "display_data"
        },
        {
          "name": "stdout",
          "output_type": "stream",
          "text": [
            "\n",
            "################################################################################\n",
            "#\n",
            "# RESULT # 04\n",
            "#\n",
            "################################################################################\n",
            "\n"
          ]
        },
        {
          "data": {
            "image/png": "[encoded data removed]",
            "text/plain": [
              "<Figure size 576x432 with 1 Axes>"
            ]
          },
          "metadata": {
            "needs_background": "light"
          },
          "output_type": "display_data"
        },
        {
          "name": "stdout",
          "output_type": "stream",
          "text": [
            "\n",
            "################################################################################\n",
            "#\n",
            "# RESULT # 05\n",
            "#\n",
            "################################################################################\n",
            "\n"
          ]
        },
        {
          "data": {
            "image/png": "[encoded data removed]",
            "text/plain": [
              "<Figure size 576x432 with 1 Axes>"
            ]
          },
          "metadata": {
            "needs_background": "light"
          },
          "output_type": "display_data"
        },
        {
          "name": "stdout",
          "output_type": "stream",
          "text": [
            "\n",
            "################################################################################\n",
            "#\n",
            "# RESULT # 06\n",
            "#\n",
            "################################################################################\n",
            "\n"
          ]
        },
        {
          "data": {
            "image/png": "[encoded data removed]",
            "text/plain": [
              "<Figure size 576x432 with 1 Axes>"
            ]
          },
          "metadata": {
            "needs_background": "light"
          },
          "output_type": "display_data"
        },
        {
          "name": "stdout",
          "output_type": "stream",
          "text": [
            "\n",
            "################################################################################\n",
            "#\n",
            "# RESULT # 07\n",
            "#\n",
            "################################################################################\n",
            "\n"
          ]
        },
        {
          "data": {
            "image/png": "[encoded data removed]",
            "text/plain": [
              "<Figure size 576x432 with 1 Axes>"
            ]
          },
          "metadata": {
            "needs_background": "light"
          },
          "output_type": "display_data"
        },
        {
          "name": "stdout",
          "output_type": "stream",
          "text": [
            "\n",
            "################################################################################\n",
            "#\n",
            "# RESULT # 08\n",
            "#\n",
            "################################################################################\n",
            "\n"
          ]
        },
        {
          "data": {
            "image/png": "[encoded data removed]",
            "text/plain": [
              "<Figure size 576x432 with 1 Axes>"
            ]
          },
          "metadata": {
            "needs_background": "light"
          },
          "output_type": "display_data"
        },
        {
          "name": "stdout",
          "output_type": "stream",
          "text": [
            "\n",
            "################################################################################\n",
            "#\n",
            "# RESULT # 09\n",
            "#\n",
            "################################################################################\n",
            "\n"
          ]
        },
        {
          "data": {
            "image/png": "[encoded data removed]",
            "text/plain": [
              "<Figure size 648x1944 with 27 Axes>"
            ]
          },
          "metadata": {
            "needs_background": "light"
          },
          "output_type": "display_data"
        },
        {
          "name": "stdout",
          "output_type": "stream",
          "text": [
            "\n",
            "################################################################################\n",
            "#\n",
            "# RESULT # 10\n",
            "#\n",
            "################################################################################\n",
            "\n"
          ]
        },
        {
          "data": {
            "image/png": "[encoded data removed]",
            "text/plain": [
              "<Figure size 648x1944 with 27 Axes>"
            ]
          },
          "metadata": {
            "needs_background": "light"
          },
          "output_type": "display_data"
        },
        {
          "name": "stdout",
          "output_type": "stream",
          "text": [
            "\n",
            "################################################################################\n",
            "#\n",
            "# RESULT # 11\n",
            "#\n",
            "################################################################################\n",
            "\n",
            "final training psnr = 5.27657731\n",
            "\n",
            "################################################################################\n",
            "#\n",
            "# RESULT # 12\n",
            "#\n",
            "################################################################################\n",
            "\n",
            "final testing psnr = 5.35701706\n"
          ]
        }
      ],
      "source": [
        "number_result = 12 \n",
        "\n",
        "for i in range(number_result):\n",
        "\n",
        "    title           = '# RESULT # {:02d}'.format(i+1) \n",
        "    name_function   = 'function_result_{:02d}()'.format(i+1)\n",
        "\n",
        "    print('') \n",
        "    print('################################################################################')\n",
        "    print('#') \n",
        "    print(title)\n",
        "    print('#') \n",
        "    print('################################################################################')\n",
        "    print('') \n",
        "\n",
        "    eval(name_function)"
      ]
    }
  ],
  "metadata": {
    "accelerator": "GPU",
    "colab": {
      "collapsed_sections": [],
      "name": "assignment_07_solution.ipynb",
      "provenance": []
    },
    "interpreter": {
      "hash": "f58b7db978343697f262654c699827fe62399c751b4f1d80f455327b09615f5c"
    },
    "kernelspec": {
      "display_name": "Python 3.9.12 64-bit ('base': conda)",
      "name": "python3"
    },
    "language_info": {
      "codemirror_mode": {
        "name": "ipython",
        "version": 3
      },
      "file_extension": ".py",
      "mimetype": "text/x-python",
      "name": "python",
      "nbconvert_exporter": "python",
      "pygments_lexer": "ipython3",
      "version": "3.9.12"
    },
    "vscode": {
      "interpreter": {
        "hash": "40d3a090f54c6569ab1632332b64b2c03c39dcf918b08424e98f38b5ae0af88f"
      }
    },
    "widgets": {
      "application/vnd.jupyter.widget-state+json": {
        "3ed9a840122c424d8aa9909122696711": {
          "model_module": "@jupyter-widgets/controls",
          "model_module_version": "1.5.0",
          "model_name": "HTMLModel",
          "state": {
            "_dom_classes": [],
            "_model_module": "@jupyter-widgets/controls",
            "_model_module_version": "1.5.0",
            "_model_name": "HTMLModel",
            "_view_count": null,
            "_view_module": "@jupyter-widgets/controls",
            "_view_module_version": "1.5.0",
            "_view_name": "HTMLView",
            "description": "",
            "description_tooltip": null,
            "layout": "IPY_MODEL_e88cb30590ab474691856d3b14feb67e",
            "placeholder": "​",
            "style": "IPY_MODEL_b934d7dec0ff49feb04fb5ffe1a6e91e",
            "value": "100%"
          }
        },
        "615b93ce41b942dca1478631e8392279": {
          "model_module": "@jupyter-widgets/controls",
          "model_module_version": "1.5.0",
          "model_name": "HBoxModel",
          "state": {
            "_dom_classes": [],
            "_model_module": "@jupyter-widgets/controls",
            "_model_module_version": "1.5.0",
            "_model_name": "HBoxModel",
            "_view_count": null,
            "_view_module": "@jupyter-widgets/controls",
            "_view_module_version": "1.5.0",
            "_view_name": "HBoxView",
            "box_style": "",
            "children": [
              "IPY_MODEL_3ed9a840122c424d8aa9909122696711",
              "IPY_MODEL_ae11af637c7a45feabdf6211993b2a18",
              "IPY_MODEL_cf2f6798487e4bb984eea0153ad5ef41"
            ],
            "layout": "IPY_MODEL_7578d2a5f0af4ba78a765bc38535c98d"
          }
        },
        "7578d2a5f0af4ba78a765bc38535c98d": {
          "model_module": "@jupyter-widgets/base",
          "model_module_version": "1.2.0",
          "model_name": "LayoutModel",
          "state": {
            "_model_module": "@jupyter-widgets/base",
            "_model_module_version": "1.2.0",
            "_model_name": "LayoutModel",
            "_view_count": null,
            "_view_module": "@jupyter-widgets/base",
            "_view_module_version": "1.2.0",
            "_view_name": "LayoutView",
            "align_content": null,
            "align_items": null,
            "align_self": null,
            "border": null,
            "bottom": null,
            "display": null,
            "flex": null,
            "flex_flow": null,
            "grid_area": null,
            "grid_auto_columns": null,
            "grid_auto_flow": null,
            "grid_auto_rows": null,
            "grid_column": null,
            "grid_gap": null,
            "grid_row": null,
            "grid_template_areas": null,
            "grid_template_columns": null,
            "grid_template_rows": null,
            "height": null,
            "justify_content": null,
            "justify_items": null,
            "left": null,
            "margin": null,
            "max_height": null,
            "max_width": null,
            "min_height": null,
            "min_width": null,
            "object_fit": null,
            "object_position": null,
            "order": null,
            "overflow": null,
            "overflow_x": null,
            "overflow_y": null,
            "padding": null,
            "right": null,
            "top": null,
            "visibility": null,
            "width": null
          }
        },
        "ae11af637c7a45feabdf6211993b2a18": {
          "model_module": "@jupyter-widgets/controls",
          "model_module_version": "1.5.0",
          "model_name": "FloatProgressModel",
          "state": {
            "_dom_classes": [],
            "_model_module": "@jupyter-widgets/controls",
            "_model_module_version": "1.5.0",
            "_model_name": "FloatProgressModel",
            "_view_count": null,
            "_view_module": "@jupyter-widgets/controls",
            "_view_module_version": "1.5.0",
            "_view_name": "ProgressView",
            "bar_style": "success",
            "description": "",
            "description_tooltip": null,
            "layout": "IPY_MODEL_e60dc2f6fa774b1d807a4b77be08548b",
            "max": 200,
            "min": 0,
            "orientation": "horizontal",
            "style": "IPY_MODEL_edeeb015d40d4e91bd739ff9d5de0649",
            "value": 200
          }
        },
        "b934d7dec0ff49feb04fb5ffe1a6e91e": {
          "model_module": "@jupyter-widgets/controls",
          "model_module_version": "1.5.0",
          "model_name": "DescriptionStyleModel",
          "state": {
            "_model_module": "@jupyter-widgets/controls",
            "_model_module_version": "1.5.0",
            "_model_name": "DescriptionStyleModel",
            "_view_count": null,
            "_view_module": "@jupyter-widgets/base",
            "_view_module_version": "1.2.0",
            "_view_name": "StyleView",
            "description_width": ""
          }
        },
        "cf2f6798487e4bb984eea0153ad5ef41": {
          "model_module": "@jupyter-widgets/controls",
          "model_module_version": "1.5.0",
          "model_name": "HTMLModel",
          "state": {
            "_dom_classes": [],
            "_model_module": "@jupyter-widgets/controls",
            "_model_module_version": "1.5.0",
            "_model_name": "HTMLModel",
            "_view_count": null,
            "_view_module": "@jupyter-widgets/controls",
            "_view_module_version": "1.5.0",
            "_view_name": "HTMLView",
            "description": "",
            "description_tooltip": null,
            "layout": "IPY_MODEL_dbcad030067f46c29ca184fe962e7851",
            "placeholder": "​",
            "style": "IPY_MODEL_fafd0841d1974cccb4b46231de87f52b",
            "value": " 200/200 [14:53&lt;00:00,  4.48s/it]"
          }
        },
        "dbcad030067f46c29ca184fe962e7851": {
          "model_module": "@jupyter-widgets/base",
          "model_module_version": "1.2.0",
          "model_name": "LayoutModel",
          "state": {
            "_model_module": "@jupyter-widgets/base",
            "_model_module_version": "1.2.0",
            "_model_name": "LayoutModel",
            "_view_count": null,
            "_view_module": "@jupyter-widgets/base",
            "_view_module_version": "1.2.0",
            "_view_name": "LayoutView",
            "align_content": null,
            "align_items": null,
            "align_self": null,
            "border": null,
            "bottom": null,
            "display": null,
            "flex": null,
            "flex_flow": null,
            "grid_area": null,
            "grid_auto_columns": null,
            "grid_auto_flow": null,
            "grid_auto_rows": null,
            "grid_column": null,
            "grid_gap": null,
            "grid_row": null,
            "grid_template_areas": null,
            "grid_template_columns": null,
            "grid_template_rows": null,
            "height": null,
            "justify_content": null,
            "justify_items": null,
            "left": null,
            "margin": null,
            "max_height": null,
            "max_width": null,
            "min_height": null,
            "min_width": null,
            "object_fit": null,
            "object_position": null,
            "order": null,
            "overflow": null,
            "overflow_x": null,
            "overflow_y": null,
            "padding": null,
            "right": null,
            "top": null,
            "visibility": null,
            "width": null
          }
        },
        "e60dc2f6fa774b1d807a4b77be08548b": {
          "model_module": "@jupyter-widgets/base",
          "model_module_version": "1.2.0",
          "model_name": "LayoutModel",
          "state": {
            "_model_module": "@jupyter-widgets/base",
            "_model_module_version": "1.2.0",
            "_model_name": "LayoutModel",
            "_view_count": null,
            "_view_module": "@jupyter-widgets/base",
            "_view_module_version": "1.2.0",
            "_view_name": "LayoutView",
            "align_content": null,
            "align_items": null,
            "align_self": null,
            "border": null,
            "bottom": null,
            "display": null,
            "flex": null,
            "flex_flow": null,
            "grid_area": null,
            "grid_auto_columns": null,
            "grid_auto_flow": null,
            "grid_auto_rows": null,
            "grid_column": null,
            "grid_gap": null,
            "grid_row": null,
            "grid_template_areas": null,
            "grid_template_columns": null,
            "grid_template_rows": null,
            "height": null,
            "justify_content": null,
            "justify_items": null,
            "left": null,
            "margin": null,
            "max_height": null,
            "max_width": null,
            "min_height": null,
            "min_width": null,
            "object_fit": null,
            "object_position": null,
            "order": null,
            "overflow": null,
            "overflow_x": null,
            "overflow_y": null,
            "padding": null,
            "right": null,
            "top": null,
            "visibility": null,
            "width": null
          }
        },
        "e88cb30590ab474691856d3b14feb67e": {
          "model_module": "@jupyter-widgets/base",
          "model_module_version": "1.2.0",
          "model_name": "LayoutModel",
          "state": {
            "_model_module": "@jupyter-widgets/base",
            "_model_module_version": "1.2.0",
            "_model_name": "LayoutModel",
            "_view_count": null,
            "_view_module": "@jupyter-widgets/base",
            "_view_module_version": "1.2.0",
            "_view_name": "LayoutView",
            "align_content": null,
            "align_items": null,
            "align_self": null,
            "border": null,
            "bottom": null,
            "display": null,
            "flex": null,
            "flex_flow": null,
            "grid_area": null,
            "grid_auto_columns": null,
            "grid_auto_flow": null,
            "grid_auto_rows": null,
            "grid_column": null,
            "grid_gap": null,
            "grid_row": null,
            "grid_template_areas": null,
            "grid_template_columns": null,
            "grid_template_rows": null,
            "height": null,
            "justify_content": null,
            "justify_items": null,
            "left": null,
            "margin": null,
            "max_height": null,
            "max_width": null,
            "min_height": null,
            "min_width": null,
            "object_fit": null,
            "object_position": null,
            "order": null,
            "overflow": null,
            "overflow_x": null,
            "overflow_y": null,
            "padding": null,
            "right": null,
            "top": null,
            "visibility": null,
            "width": null
          }
        },
        "edeeb015d40d4e91bd739ff9d5de0649": {
          "model_module": "@jupyter-widgets/controls",
          "model_module_version": "1.5.0",
          "model_name": "ProgressStyleModel",
          "state": {
            "_model_module": "@jupyter-widgets/controls",
            "_model_module_version": "1.5.0",
            "_model_name": "ProgressStyleModel",
            "_view_count": null,
            "_view_module": "@jupyter-widgets/base",
            "_view_module_version": "1.2.0",
            "_view_name": "StyleView",
            "bar_color": null,
            "description_width": ""
          }
        },
        "fafd0841d1974cccb4b46231de87f52b": {
          "model_module": "@jupyter-widgets/controls",
          "model_module_version": "1.5.0",
          "model_name": "DescriptionStyleModel",
          "state": {
            "_model_module": "@jupyter-widgets/controls",
            "_model_module_version": "1.5.0",
            "_model_name": "DescriptionStyleModel",
            "_view_count": null,
            "_view_module": "@jupyter-widgets/base",
            "_view_module_version": "1.2.0",
            "_view_name": "StyleView",
            "description_width": ""
          }
        }
      }
    }
  },
  "nbformat": 4,
  "nbformat_minor": 0
}
